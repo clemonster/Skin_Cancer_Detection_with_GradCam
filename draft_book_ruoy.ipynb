{
 "cells": [
  {
   "cell_type": "code",
   "execution_count": 1,
   "metadata": {},
   "outputs": [],
   "source": [
    "import pandas as pd\n",
    "\n",
    "\n",
    "data_path = '../data/skin-cancer-mnist-ham10000/'"
   ]
  },
  {
   "cell_type": "code",
   "execution_count": 6,
   "metadata": {
    "scrolled": true
   },
   "outputs": [],
   "source": [
    "pd_meta = pd.read_csv(data_path + 'HAM10000_metadata.csv')"
   ]
  },
  {
   "cell_type": "code",
   "execution_count": 8,
   "metadata": {},
   "outputs": [
    {
     "data": {
      "text/plain": [
       "{'confocal', 'consensus', 'follow_up', 'histo'}"
      ]
     },
     "execution_count": 8,
     "metadata": {},
     "output_type": "execute_result"
    }
   ],
   "source": [
    "set(pd_meta.dx_type)"
   ]
  },
  {
   "cell_type": "markdown",
   "metadata": {},
   "source": [
    "According to data description, only the 'follow-up' category is confirmed and therefore can be used as positive label"
   ]
  },
  {
   "cell_type": "code",
   "execution_count": 11,
   "metadata": {},
   "outputs": [
    {
     "data": {
      "text/plain": [
       "3704"
      ]
     },
     "execution_count": 11,
     "metadata": {},
     "output_type": "execute_result"
    }
   ],
   "source": [
    "sum(pd_meta.dx_type == 'follow_up')"
   ]
  },
  {
   "cell_type": "code",
   "execution_count": 18,
   "metadata": {},
   "outputs": [
    {
     "data": {
      "text/plain": [
       "{'akiec', 'bcc', 'bkl', 'df', 'mel', 'nv', 'vasc'}"
      ]
     },
     "execution_count": 18,
     "metadata": {},
     "output_type": "execute_result"
    }
   ],
   "source": [
    "set(pd_meta.dx)"
   ]
  },
  {
   "cell_type": "markdown",
   "metadata": {},
   "source": [
    "According to the data description, the above categories correpond to the following diagnoses:\n",
    "- Actinic keratoses and intraepithelial carcinoma / Bowen's disease (akiec)\n",
    "- basal cell carcinoma (bcc)\n",
    "- benign keratosis-like lesions (solar lentigines / seborrheic keratoses and lichen-planus like keratoses, bkl)\n",
    "- dermatofibroma (df)\n",
    "- melanoma (mel)\n",
    "- melanocytic nevi (nv) \n",
    "- vascular lesions (angiomas, angiokeratomas, pyogenic granulomas and hemorrhage, vasc)"
   ]
  },
  {
   "cell_type": "code",
   "execution_count": 20,
   "metadata": {},
   "outputs": [
    {
     "data": {
      "text/html": [
       "<div>\n",
       "<style scoped>\n",
       "    .dataframe tbody tr th:only-of-type {\n",
       "        vertical-align: middle;\n",
       "    }\n",
       "\n",
       "    .dataframe tbody tr th {\n",
       "        vertical-align: top;\n",
       "    }\n",
       "\n",
       "    .dataframe thead th {\n",
       "        text-align: right;\n",
       "    }\n",
       "</style>\n",
       "<table border=\"1\" class=\"dataframe\">\n",
       "  <thead>\n",
       "    <tr style=\"text-align: right;\">\n",
       "      <th></th>\n",
       "      <th>lesion_id</th>\n",
       "      <th>image_id</th>\n",
       "      <th>dx</th>\n",
       "      <th>dx_type</th>\n",
       "      <th>age</th>\n",
       "      <th>sex</th>\n",
       "      <th>localization</th>\n",
       "    </tr>\n",
       "  </thead>\n",
       "  <tbody>\n",
       "    <tr>\n",
       "      <th>0</th>\n",
       "      <td>HAM_0000118</td>\n",
       "      <td>ISIC_0027419</td>\n",
       "      <td>bkl</td>\n",
       "      <td>histo</td>\n",
       "      <td>80.0</td>\n",
       "      <td>male</td>\n",
       "      <td>scalp</td>\n",
       "    </tr>\n",
       "    <tr>\n",
       "      <th>1</th>\n",
       "      <td>HAM_0000118</td>\n",
       "      <td>ISIC_0025030</td>\n",
       "      <td>bkl</td>\n",
       "      <td>histo</td>\n",
       "      <td>80.0</td>\n",
       "      <td>male</td>\n",
       "      <td>scalp</td>\n",
       "    </tr>\n",
       "    <tr>\n",
       "      <th>2</th>\n",
       "      <td>HAM_0002730</td>\n",
       "      <td>ISIC_0026769</td>\n",
       "      <td>bkl</td>\n",
       "      <td>histo</td>\n",
       "      <td>80.0</td>\n",
       "      <td>male</td>\n",
       "      <td>scalp</td>\n",
       "    </tr>\n",
       "    <tr>\n",
       "      <th>3</th>\n",
       "      <td>HAM_0002730</td>\n",
       "      <td>ISIC_0025661</td>\n",
       "      <td>bkl</td>\n",
       "      <td>histo</td>\n",
       "      <td>80.0</td>\n",
       "      <td>male</td>\n",
       "      <td>scalp</td>\n",
       "    </tr>\n",
       "    <tr>\n",
       "      <th>4</th>\n",
       "      <td>HAM_0001466</td>\n",
       "      <td>ISIC_0031633</td>\n",
       "      <td>bkl</td>\n",
       "      <td>histo</td>\n",
       "      <td>75.0</td>\n",
       "      <td>male</td>\n",
       "      <td>ear</td>\n",
       "    </tr>\n",
       "  </tbody>\n",
       "</table>\n",
       "</div>"
      ],
      "text/plain": [
       "     lesion_id      image_id   dx dx_type   age   sex localization\n",
       "0  HAM_0000118  ISIC_0027419  bkl   histo  80.0  male        scalp\n",
       "1  HAM_0000118  ISIC_0025030  bkl   histo  80.0  male        scalp\n",
       "2  HAM_0002730  ISIC_0026769  bkl   histo  80.0  male        scalp\n",
       "3  HAM_0002730  ISIC_0025661  bkl   histo  80.0  male        scalp\n",
       "4  HAM_0001466  ISIC_0031633  bkl   histo  75.0  male          ear"
      ]
     },
     "execution_count": 20,
     "metadata": {},
     "output_type": "execute_result"
    }
   ],
   "source": [
    "pd_meta.head()"
   ]
  },
  {
   "cell_type": "markdown",
   "metadata": {},
   "source": [
    "we have about 3.7k positive labels"
   ]
  },
  {
   "cell_type": "code",
   "execution_count": 12,
   "metadata": {},
   "outputs": [],
   "source": [
    "rgb_28 = pd.read_csv(data_path+'hmnist_28_28_RGB.csv')"
   ]
  },
  {
   "cell_type": "code",
   "execution_count": 19,
   "metadata": {
    "collapsed": true
   },
   "outputs": [
    {
     "data": {
      "text/plain": [
       "0        2\n",
       "1        2\n",
       "2        2\n",
       "3        2\n",
       "4        2\n",
       "5        2\n",
       "6        2\n",
       "7        2\n",
       "8        2\n",
       "9        2\n",
       "10       2\n",
       "11       2\n",
       "12       2\n",
       "13       2\n",
       "14       2\n",
       "15       2\n",
       "16       2\n",
       "17       2\n",
       "18       2\n",
       "19       2\n",
       "20       2\n",
       "21       2\n",
       "22       2\n",
       "23       2\n",
       "24       2\n",
       "25       2\n",
       "26       2\n",
       "27       2\n",
       "28       2\n",
       "29       2\n",
       "        ..\n",
       "9985     0\n",
       "9986     0\n",
       "9987     0\n",
       "9988     0\n",
       "9989     0\n",
       "9990     0\n",
       "9991     0\n",
       "9992     0\n",
       "9993     0\n",
       "9994     0\n",
       "9995     0\n",
       "9996     0\n",
       "9997     0\n",
       "9998     0\n",
       "9999     0\n",
       "10000    0\n",
       "10001    0\n",
       "10002    0\n",
       "10003    0\n",
       "10004    0\n",
       "10005    0\n",
       "10006    0\n",
       "10007    0\n",
       "10008    0\n",
       "10009    0\n",
       "10010    0\n",
       "10011    0\n",
       "10012    0\n",
       "10013    0\n",
       "10014    6\n",
       "Name: label, Length: 10015, dtype: int64"
      ]
     },
     "execution_count": 19,
     "metadata": {},
     "output_type": "execute_result"
    }
   ],
   "source": [
    "rgb_28.label"
   ]
  },
  {
   "cell_type": "markdown",
   "metadata": {},
   "source": [
    "Testing out stuff"
   ]
  },
  {
   "cell_type": "code",
   "execution_count": 3,
   "metadata": {},
   "outputs": [],
   "source": [
    "import numpy as np\n",
    "import torch"
   ]
  },
  {
   "cell_type": "code",
   "execution_count": 209,
   "metadata": {},
   "outputs": [],
   "source": [
    "one_hot = np.zeros((1, 5), dtype = np.float32)"
   ]
  },
  {
   "cell_type": "code",
   "execution_count": 210,
   "metadata": {},
   "outputs": [],
   "source": [
    "one_hot[0][3] = 1"
   ]
  },
  {
   "cell_type": "code",
   "execution_count": 211,
   "metadata": {},
   "outputs": [],
   "source": [
    "one_hot = torch.from_numpy(one_hot)"
   ]
  },
  {
   "cell_type": "code",
   "execution_count": 212,
   "metadata": {},
   "outputs": [
    {
     "data": {
      "text/plain": [
       "tensor([[0., 0., 0., 1., 0.]])"
      ]
     },
     "execution_count": 212,
     "metadata": {},
     "output_type": "execute_result"
    }
   ],
   "source": [
    "one_hot"
   ]
  },
  {
   "cell_type": "code",
   "execution_count": 213,
   "metadata": {},
   "outputs": [],
   "source": [
    "pseudo_output = np.array([[1,2,3], [2,3,4], [2,3,4], [3,4,5], [4,5,6]])"
   ]
  },
  {
   "cell_type": "code",
   "execution_count": 214,
   "metadata": {},
   "outputs": [],
   "source": [
    "pseudo_output = torch.from_numpy(pseudo_output).float().t()"
   ]
  },
  {
   "cell_type": "code",
   "execution_count": 215,
   "metadata": {},
   "outputs": [
    {
     "data": {
      "text/plain": [
       "tensor([[1., 2., 2., 3., 4.],\n",
       "        [2., 3., 3., 4., 5.],\n",
       "        [3., 4., 4., 5., 6.]])"
      ]
     },
     "execution_count": 215,
     "metadata": {},
     "output_type": "execute_result"
    }
   ],
   "source": [
    "pseudo_output"
   ]
  },
  {
   "cell_type": "code",
   "execution_count": 216,
   "metadata": {},
   "outputs": [
    {
     "data": {
      "text/plain": [
       "torch.Size([3, 5])"
      ]
     },
     "execution_count": 216,
     "metadata": {},
     "output_type": "execute_result"
    }
   ],
   "source": [
    "pseudo_output.shape"
   ]
  },
  {
   "cell_type": "code",
   "execution_count": 219,
   "metadata": {},
   "outputs": [
    {
     "data": {
      "text/plain": [
       "tensor(12.)"
      ]
     },
     "execution_count": 219,
     "metadata": {},
     "output_type": "execute_result"
    }
   ],
   "source": [
    "torch.sum(one_hot*pseudo_output)"
   ]
  },
  {
   "cell_type": "code",
   "execution_count": 218,
   "metadata": {},
   "outputs": [
    {
     "data": {
      "text/plain": [
       "tensor([[3., 4., 5.]])"
      ]
     },
     "execution_count": 218,
     "metadata": {},
     "output_type": "execute_result"
    }
   ],
   "source": [
    "torch.mm(one_hot, pseudo_output.t())"
   ]
  },
  {
   "cell_type": "code",
   "execution_count": 4,
   "metadata": {},
   "outputs": [],
   "source": [
    "from torchvision import models"
   ]
  },
  {
   "cell_type": "code",
   "execution_count": 5,
   "metadata": {},
   "outputs": [
    {
     "data": {
      "text/plain": [
       "VGG(\n",
       "  (features): Sequential(\n",
       "    (0): Conv2d(3, 64, kernel_size=(3, 3), stride=(1, 1), padding=(1, 1))\n",
       "    (1): ReLU(inplace)\n",
       "    (2): Conv2d(64, 64, kernel_size=(3, 3), stride=(1, 1), padding=(1, 1))\n",
       "    (3): ReLU(inplace)\n",
       "    (4): MaxPool2d(kernel_size=2, stride=2, padding=0, dilation=1, ceil_mode=False)\n",
       "    (5): Conv2d(64, 128, kernel_size=(3, 3), stride=(1, 1), padding=(1, 1))\n",
       "    (6): ReLU(inplace)\n",
       "    (7): Conv2d(128, 128, kernel_size=(3, 3), stride=(1, 1), padding=(1, 1))\n",
       "    (8): ReLU(inplace)\n",
       "    (9): MaxPool2d(kernel_size=2, stride=2, padding=0, dilation=1, ceil_mode=False)\n",
       "    (10): Conv2d(128, 256, kernel_size=(3, 3), stride=(1, 1), padding=(1, 1))\n",
       "    (11): ReLU(inplace)\n",
       "    (12): Conv2d(256, 256, kernel_size=(3, 3), stride=(1, 1), padding=(1, 1))\n",
       "    (13): ReLU(inplace)\n",
       "    (14): Conv2d(256, 256, kernel_size=(3, 3), stride=(1, 1), padding=(1, 1))\n",
       "    (15): ReLU(inplace)\n",
       "    (16): Conv2d(256, 256, kernel_size=(3, 3), stride=(1, 1), padding=(1, 1))\n",
       "    (17): ReLU(inplace)\n",
       "    (18): MaxPool2d(kernel_size=2, stride=2, padding=0, dilation=1, ceil_mode=False)\n",
       "    (19): Conv2d(256, 512, kernel_size=(3, 3), stride=(1, 1), padding=(1, 1))\n",
       "    (20): ReLU(inplace)\n",
       "    (21): Conv2d(512, 512, kernel_size=(3, 3), stride=(1, 1), padding=(1, 1))\n",
       "    (22): ReLU(inplace)\n",
       "    (23): Conv2d(512, 512, kernel_size=(3, 3), stride=(1, 1), padding=(1, 1))\n",
       "    (24): ReLU(inplace)\n",
       "    (25): Conv2d(512, 512, kernel_size=(3, 3), stride=(1, 1), padding=(1, 1))\n",
       "    (26): ReLU(inplace)\n",
       "    (27): MaxPool2d(kernel_size=2, stride=2, padding=0, dilation=1, ceil_mode=False)\n",
       "    (28): Conv2d(512, 512, kernel_size=(3, 3), stride=(1, 1), padding=(1, 1))\n",
       "    (29): ReLU(inplace)\n",
       "    (30): Conv2d(512, 512, kernel_size=(3, 3), stride=(1, 1), padding=(1, 1))\n",
       "    (31): ReLU(inplace)\n",
       "    (32): Conv2d(512, 512, kernel_size=(3, 3), stride=(1, 1), padding=(1, 1))\n",
       "    (33): ReLU(inplace)\n",
       "    (34): Conv2d(512, 512, kernel_size=(3, 3), stride=(1, 1), padding=(1, 1))\n",
       "    (35): ReLU(inplace)\n",
       "    (36): MaxPool2d(kernel_size=2, stride=2, padding=0, dilation=1, ceil_mode=False)\n",
       "  )\n",
       "  (classifier): Sequential(\n",
       "    (0): Linear(in_features=25088, out_features=4096, bias=True)\n",
       "    (1): ReLU(inplace)\n",
       "    (2): Dropout(p=0.5)\n",
       "    (3): Linear(in_features=4096, out_features=4096, bias=True)\n",
       "    (4): ReLU(inplace)\n",
       "    (5): Dropout(p=0.5)\n",
       "    (6): Linear(in_features=4096, out_features=1000, bias=True)\n",
       "  )\n",
       ")"
      ]
     },
     "execution_count": 5,
     "metadata": {},
     "output_type": "execute_result"
    }
   ],
   "source": [
    "model_vgg16 = models.vgg16(pretrained = True)\n",
    "model_vgg19 = models.vgg19(pretrained = True)\n",
    "\n",
    "model_vgg16.eval()\n",
    "model_vgg19.eval()"
   ]
  },
  {
   "cell_type": "code",
   "execution_count": 5,
   "metadata": {
    "collapsed": true
   },
   "outputs": [
    {
     "data": {
      "text/plain": [
       "VGG(\n",
       "  (features): Sequential(\n",
       "    (0): Conv2d(3, 64, kernel_size=(3, 3), stride=(1, 1), padding=(1, 1))\n",
       "    (1): ReLU(inplace)\n",
       "    (2): Conv2d(64, 64, kernel_size=(3, 3), stride=(1, 1), padding=(1, 1))\n",
       "    (3): ReLU(inplace)\n",
       "    (4): MaxPool2d(kernel_size=2, stride=2, padding=0, dilation=1, ceil_mode=False)\n",
       "    (5): Conv2d(64, 128, kernel_size=(3, 3), stride=(1, 1), padding=(1, 1))\n",
       "    (6): ReLU(inplace)\n",
       "    (7): Conv2d(128, 128, kernel_size=(3, 3), stride=(1, 1), padding=(1, 1))\n",
       "    (8): ReLU(inplace)\n",
       "    (9): MaxPool2d(kernel_size=2, stride=2, padding=0, dilation=1, ceil_mode=False)\n",
       "    (10): Conv2d(128, 256, kernel_size=(3, 3), stride=(1, 1), padding=(1, 1))\n",
       "    (11): ReLU(inplace)\n",
       "    (12): Conv2d(256, 256, kernel_size=(3, 3), stride=(1, 1), padding=(1, 1))\n",
       "    (13): ReLU(inplace)\n",
       "    (14): Conv2d(256, 256, kernel_size=(3, 3), stride=(1, 1), padding=(1, 1))\n",
       "    (15): ReLU(inplace)\n",
       "    (16): MaxPool2d(kernel_size=2, stride=2, padding=0, dilation=1, ceil_mode=False)\n",
       "    (17): Conv2d(256, 512, kernel_size=(3, 3), stride=(1, 1), padding=(1, 1))\n",
       "    (18): ReLU(inplace)\n",
       "    (19): Conv2d(512, 512, kernel_size=(3, 3), stride=(1, 1), padding=(1, 1))\n",
       "    (20): ReLU(inplace)\n",
       "    (21): Conv2d(512, 512, kernel_size=(3, 3), stride=(1, 1), padding=(1, 1))\n",
       "    (22): ReLU(inplace)\n",
       "    (23): MaxPool2d(kernel_size=2, stride=2, padding=0, dilation=1, ceil_mode=False)\n",
       "    (24): Conv2d(512, 512, kernel_size=(3, 3), stride=(1, 1), padding=(1, 1))\n",
       "    (25): ReLU(inplace)\n",
       "    (26): Conv2d(512, 512, kernel_size=(3, 3), stride=(1, 1), padding=(1, 1))\n",
       "    (27): ReLU(inplace)\n",
       "    (28): Conv2d(512, 512, kernel_size=(3, 3), stride=(1, 1), padding=(1, 1))\n",
       "    (29): ReLU(inplace)\n",
       "    (30): MaxPool2d(kernel_size=2, stride=2, padding=0, dilation=1, ceil_mode=False)\n",
       "  )\n",
       "  (classifier): Sequential(\n",
       "    (0): Linear(in_features=25088, out_features=4096, bias=True)\n",
       "    (1): ReLU(inplace)\n",
       "    (2): Dropout(p=0.5)\n",
       "    (3): Linear(in_features=4096, out_features=4096, bias=True)\n",
       "    (4): ReLU(inplace)\n",
       "    (5): Dropout(p=0.5)\n",
       "    (6): Linear(in_features=4096, out_features=1000, bias=True)\n",
       "  )\n",
       ")"
      ]
     },
     "execution_count": 5,
     "metadata": {},
     "output_type": "execute_result"
    }
   ],
   "source": [
    "model_vgg16.eval()"
   ]
  },
  {
   "cell_type": "code",
   "execution_count": 95,
   "metadata": {
    "collapsed": true
   },
   "outputs": [
    {
     "name": "stdout",
     "output_type": "stream",
     "text": [
      "0 Conv2d(3, 64, kernel_size=(3, 3), stride=(1, 1), padding=(1, 1))\n",
      "1 ReLU(inplace)\n",
      "2 Conv2d(64, 64, kernel_size=(3, 3), stride=(1, 1), padding=(1, 1))\n",
      "3 ReLU(inplace)\n",
      "4 MaxPool2d(kernel_size=2, stride=2, padding=0, dilation=1, ceil_mode=False)\n",
      "5 Conv2d(64, 128, kernel_size=(3, 3), stride=(1, 1), padding=(1, 1))\n",
      "6 ReLU(inplace)\n",
      "7 Conv2d(128, 128, kernel_size=(3, 3), stride=(1, 1), padding=(1, 1))\n",
      "8 ReLU(inplace)\n",
      "9 MaxPool2d(kernel_size=2, stride=2, padding=0, dilation=1, ceil_mode=False)\n",
      "10 Conv2d(128, 256, kernel_size=(3, 3), stride=(1, 1), padding=(1, 1))\n",
      "11 ReLU(inplace)\n",
      "12 Conv2d(256, 256, kernel_size=(3, 3), stride=(1, 1), padding=(1, 1))\n",
      "13 ReLU(inplace)\n",
      "14 Conv2d(256, 256, kernel_size=(3, 3), stride=(1, 1), padding=(1, 1))\n",
      "15 ReLU(inplace)\n",
      "16 MaxPool2d(kernel_size=2, stride=2, padding=0, dilation=1, ceil_mode=False)\n",
      "17 Conv2d(256, 512, kernel_size=(3, 3), stride=(1, 1), padding=(1, 1))\n",
      "18 ReLU(inplace)\n",
      "19 Conv2d(512, 512, kernel_size=(3, 3), stride=(1, 1), padding=(1, 1))\n",
      "20 ReLU(inplace)\n",
      "21 Conv2d(512, 512, kernel_size=(3, 3), stride=(1, 1), padding=(1, 1))\n",
      "22 ReLU(inplace)\n",
      "23 MaxPool2d(kernel_size=2, stride=2, padding=0, dilation=1, ceil_mode=False)\n",
      "24 Conv2d(512, 512, kernel_size=(3, 3), stride=(1, 1), padding=(1, 1))\n",
      "25 ReLU(inplace)\n",
      "26 Conv2d(512, 512, kernel_size=(3, 3), stride=(1, 1), padding=(1, 1))\n",
      "27 ReLU(inplace)\n",
      "28 Conv2d(512, 512, kernel_size=(3, 3), stride=(1, 1), padding=(1, 1))\n",
      "29 ReLU(inplace)\n",
      "30 MaxPool2d(kernel_size=2, stride=2, padding=0, dilation=1, ceil_mode=False)\n"
     ]
    }
   ],
   "source": [
    "for name, module in model_vgg.features._modules.items():\n",
    "    print(name, module)"
   ]
  },
  {
   "cell_type": "code",
   "execution_count": 72,
   "metadata": {},
   "outputs": [],
   "source": [
    "xx = torch.randn(1,1)\n",
    "xx.requires_grad = True"
   ]
  },
  {
   "cell_type": "code",
   "execution_count": 73,
   "metadata": {},
   "outputs": [
    {
     "data": {
      "text/plain": [
       "tensor([[-0.6389]], requires_grad=True)"
      ]
     },
     "execution_count": 73,
     "metadata": {},
     "output_type": "execute_result"
    }
   ],
   "source": [
    "xx"
   ]
  },
  {
   "cell_type": "code",
   "execution_count": 74,
   "metadata": {},
   "outputs": [],
   "source": [
    "yy = 4 * xx"
   ]
  },
  {
   "cell_type": "code",
   "execution_count": 75,
   "metadata": {},
   "outputs": [],
   "source": [
    "zz = yy**2"
   ]
  },
  {
   "cell_type": "code",
   "execution_count": 76,
   "metadata": {},
   "outputs": [
    {
     "data": {
      "text/plain": [
       "<torch.utils.hooks.RemovableHandle at 0x7f1787030390>"
      ]
     },
     "execution_count": 76,
     "metadata": {},
     "output_type": "execute_result"
    }
   ],
   "source": [
    "yy_grad = []\n",
    "def return_grad(grad):\n",
    "    yy_grad.append(grad)\n",
    "yy.register_hook(return_grad)"
   ]
  },
  {
   "cell_type": "code",
   "execution_count": 77,
   "metadata": {},
   "outputs": [],
   "source": [
    "zz.backward()"
   ]
  },
  {
   "cell_type": "code",
   "execution_count": 78,
   "metadata": {},
   "outputs": [
    {
     "data": {
      "text/plain": [
       "tensor([[-20.4462]])"
      ]
     },
     "execution_count": 78,
     "metadata": {},
     "output_type": "execute_result"
    }
   ],
   "source": [
    "xx.grad"
   ]
  },
  {
   "cell_type": "code",
   "execution_count": 80,
   "metadata": {},
   "outputs": [
    {
     "data": {
      "text/plain": [
       "[tensor([[-5.1116]])]"
      ]
     },
     "execution_count": 80,
     "metadata": {},
     "output_type": "execute_result"
    }
   ],
   "source": [
    "yy_grad"
   ]
  },
  {
   "cell_type": "code",
   "execution_count": 9,
   "metadata": {},
   "outputs": [],
   "source": [
    "import torch\n",
    "from torch.autograd import Variable\n",
    "from torch.autograd import Function\n",
    "from torchvision import models\n",
    "from torchvision import utils\n",
    "import cv2\n",
    "import sys\n",
    "import numpy as np\n",
    "import argparse"
   ]
  },
  {
   "cell_type": "code",
   "execution_count": 8,
   "metadata": {},
   "outputs": [],
   "source": [
    "from torch.autograd import Function"
   ]
  },
  {
   "cell_type": "code",
   "execution_count": 7,
   "metadata": {},
   "outputs": [],
   "source": [
    "def preprocess_image(img):\n",
    "\tmeans=[0.485, 0.456, 0.406]\n",
    "\tstds=[0.229, 0.224, 0.225]\n",
    "\n",
    "\tpreprocessed_img = img.copy()[: , :, ::-1]\n",
    "\tfor i in range(3):\n",
    "\t\tpreprocessed_img[:, :, i] = preprocessed_img[:, :, i] - means[i]\n",
    "\t\tpreprocessed_img[:, :, i] = preprocessed_img[:, :, i] / stds[i]\n",
    "\tpreprocessed_img = \\\n",
    "\t\tnp.ascontiguousarray(np.transpose(preprocessed_img, (2, 0, 1)))\n",
    "\tpreprocessed_img = torch.from_numpy(preprocessed_img)\n",
    "\tpreprocessed_img.unsqueeze_(0)\n",
    "\t#input = Variable(preprocessed_img, requires_grad = True)\n",
    "\tinput = preprocessed_img\n",
    "\tinput.requires_grad = True\n",
    "\treturn(input)"
   ]
  },
  {
   "cell_type": "code",
   "execution_count": 41,
   "metadata": {},
   "outputs": [],
   "source": [
    "class ExtractFeatures:\n",
    "\t\"\"\"\n",
    "\tClass for mannually passing the input image through the model\n",
    "\tthe gradient at the identified layer will be registered and saved\n",
    "\t\"\"\"\n",
    "\tdef __init__(self, model, target_layer):\n",
    "\t\tself.model = model\n",
    "\t\tself.target_layer = target_layer\n",
    "\t\tself.gradients = []\n",
    "\n",
    "\tdef save_grad(self, grad):\n",
    "\t\tself.gradients.append(grad)\n",
    "\n",
    "\tdef record_and_feed_forward(self, inp):\n",
    "\t\t# we want to reset the gradient every time we call the method\n",
    "\t\tself.gradients = []\n",
    "\t\tfor name, layer in self.model.features._modules.items():\n",
    "\t\t\t# here we mannually pass the input through the NN until the identified layer\n",
    "\t\t\tinp = layer(inp)\n",
    "\t\t\tif name == self.target_layer:\n",
    "\t\t\t\t# here by registering the hook, we tag the layer and notify torch that we want to keep the gradient for this layer\n",
    "\t\t\t\tinp.register_hook(self.save_grad)\n",
    "\t\t\t\t# record the output at the identified layer, the output is the same as the input for the next layer (activation: final ReLU for VGG before classif)\n",
    "\t\t\t\tlayer_output = inp\n",
    "\t\t# need to flatten before the fully connected layers in the classifier half\n",
    "\t\tinp = inp.view(inp.size(0), -1)\n",
    "\t\t# classify\n",
    "\t\tinp = self.model.classifier(inp)\n",
    "\t\treturn(layer_output, inp)"
   ]
  },
  {
   "cell_type": "code",
   "execution_count": 77,
   "metadata": {},
   "outputs": [],
   "source": [
    "target_layers = ['29']\n",
    "feature_extractor = ExtractFeatures(model_vgg16.features, target_layers)"
   ]
  },
  {
   "cell_type": "code",
   "execution_count": 13,
   "metadata": {},
   "outputs": [],
   "source": [
    "image_path = '/home/paperspace/projects/skin_cancer/data/skin-cancer-mnist-ham10000/HAM10000_images_part_1/ISIC_0025713.jpg'\n",
    "img = cv2.imread(image_path, 1)\n",
    "img = np.float32(cv2.resize(img, (224, 224))) / 255"
   ]
  },
  {
   "cell_type": "code",
   "execution_count": 14,
   "metadata": {},
   "outputs": [],
   "source": [
    "inp = preprocess_image(img)"
   ]
  },
  {
   "cell_type": "code",
   "execution_count": 15,
   "metadata": {},
   "outputs": [
    {
     "data": {
      "text/plain": [
       "torch.Size([1, 3, 224, 224])"
      ]
     },
     "execution_count": 15,
     "metadata": {},
     "output_type": "execute_result"
    }
   ],
   "source": [
    "inp.shape"
   ]
  },
  {
   "cell_type": "code",
   "execution_count": 16,
   "metadata": {
    "collapsed": true
   },
   "outputs": [
    {
     "data": {
      "text/plain": [
       "tensor([[-3.3070,  2.3778,  0.4432, -0.6942, -0.1972,  4.7853,  4.2569,  0.7087,\n",
       "          1.1991,  0.3244, -0.0008, -0.9708,  1.3099,  2.8829, -0.5803, -0.4405,\n",
       "         -1.4957, -1.6739, -1.3722,  1.3468, -0.0456, -4.9496, -1.2047, -0.1555,\n",
       "         -1.7979, -0.0989,  2.6441,  5.1808,  2.5031,  4.3486, -1.8332,  0.2522,\n",
       "          1.1147,  1.4414,  1.2301,  0.0223,  1.6742,  0.3518,  1.8391, -2.2887,\n",
       "          0.5508, -0.3714, -0.7473, -1.9043,  0.6851,  2.2923,  0.7569, -1.5660,\n",
       "         -3.2924, -2.4407, -1.4958, -3.6510,  5.0725,  3.8894,  1.1686, -1.6518,\n",
       "          2.3065, -1.3611,  0.7232, -3.0194,  2.2893, -1.1029, -3.1230, -0.7516,\n",
       "         -1.5264,  0.7454,  1.6402, -0.1943,  0.0940,  4.0422,  7.4909,  4.4391,\n",
       "          0.9093,  6.6929,  6.2438,  9.4215,  6.0456,  7.3689, 15.6454,  6.1286,\n",
       "         -1.6573,  1.2093,  0.7167, -1.4287, -2.1487,  1.3643,  0.4579, -0.2866,\n",
       "         -1.6737, -1.3213, -1.4914, -2.9280, -2.9204, -3.5936, -0.8618, -5.5520,\n",
       "         -2.5822, -1.7974, -2.5783, -0.6514, -1.8128, -2.3722,  4.1741,  0.2933,\n",
       "          1.5314,  0.0222,  0.6242,  4.8540,  6.6350,  3.9563,  2.6565,  4.2423,\n",
       "          5.3272,  6.4911,  5.8322,  5.0196,  7.1088,  6.6566,  1.5793,  3.4175,\n",
       "          2.3839,  0.0235, -0.1779,  0.8318,  3.3651,  8.2734,  7.1277, -0.5056,\n",
       "         -3.3700,  0.2497,  0.9913, -3.5828, -2.2872, -4.4608,  0.2536, -1.3692,\n",
       "         -2.7371, -1.1622, -2.5868, -1.4875, -0.2835, -1.2425, -2.5150, -2.6218,\n",
       "         -2.9279, -1.4547, -2.6781, -3.5140, -4.2753,  1.9937,  0.7846,  1.2753,\n",
       "         -3.0111, -0.5797,  2.5553,  0.0713,  0.2033,  0.3486, -1.4522, -2.3714,\n",
       "         -3.6235, -1.9016, -1.3011, -1.7127, -3.4579, -3.3152, -2.8901, -3.6403,\n",
       "         -0.3882, -4.1997, -0.9805, -0.5848, -1.5025, -1.7418, -1.7283, -2.8500,\n",
       "         -4.2480, -1.8139,  0.8615, -1.1190, -2.1870,  1.1908,  0.6482, -2.4274,\n",
       "          0.2469,  1.3759,  0.8838,  0.8659, -2.4932, -1.6550, -1.9673, -0.5881,\n",
       "         -0.3796,  0.3347, -2.0572, -0.5343, -2.4868, -1.9100, -3.3959,  0.4399,\n",
       "         -0.9723,  0.1402, -0.3849,  0.7115, -0.0807, -0.9736, -3.1706,  0.1844,\n",
       "         -0.8000, -0.7295, -3.9478, -0.9322, -2.5000,  0.0479, -1.9671, -0.8858,\n",
       "         -1.6628, -1.3088, -2.5122, -0.3749, -2.7873, -1.2316, -0.4784,  1.2624,\n",
       "         -0.1628, -1.7908, -1.6349, -1.7342, -0.1209,  0.0342, -0.3338,  0.0990,\n",
       "         -1.1993, -2.3220, -1.0072, -1.9668, -2.2505, -0.0831, -1.1328, -1.6559,\n",
       "         -1.9894, -1.4355, -0.9419, -1.6701, -1.3364,  0.6387, -2.4488, -0.6027,\n",
       "         -0.3463, -1.3693,  0.5027,  0.0122, -1.8823, -0.0339, -0.8337, -3.0885,\n",
       "         -0.8502,  0.5270,  3.4809,  2.4372,  2.3707,  0.9649, -2.2677, -0.8130,\n",
       "         -2.3213,  1.8518,  0.3289, -0.3621, -1.4315, -1.2752,  0.8729, -3.2309,\n",
       "         -1.3090, -1.2851, -1.5658, -1.5549, -1.0779,  0.9018, -0.3666,  3.6726,\n",
       "         -0.0816, -0.4422,  0.4034,  2.4167,  2.8675, -0.2567, -1.2783, -1.1987,\n",
       "         -2.5740, -1.2949, -2.6807, -1.3855, -2.6320, -1.6928, -0.2960, -1.4448,\n",
       "          1.1136, -0.8294,  2.1628,  1.8224,  1.1259,  8.7820,  4.7452,  3.0956,\n",
       "          5.5634,  6.0042,  2.3558,  5.1430,  5.1084,  4.3678,  8.9065,  1.5547,\n",
       "          4.8862,  4.2636,  7.8503,  2.4719,  2.2184,  3.8710,  5.7288,  4.1274,\n",
       "          3.4715,  1.6478,  3.5600,  0.1022,  3.7004,  2.7559,  1.7803,  7.2958,\n",
       "         12.4291,  5.9972,  1.4234,  1.1685,  1.6744,  7.1197,  5.7795, -0.5833,\n",
       "          1.9564,  2.4458,  4.9332, -4.1308, -2.9999,  5.3335,  0.8981, -2.6418,\n",
       "         -0.7195, -1.8919, -3.1191, -1.5678, -0.1297, -2.7597, -4.2505, -4.5851,\n",
       "         -4.1785, -3.8197, -3.8045, -2.7107,  5.0488,  5.2796,  3.3154,  2.3074,\n",
       "          1.5357,  1.6530,  1.9961,  2.8047, -0.5618, -1.0469, -2.1066, -0.6573,\n",
       "         -0.6341, -2.5900, -0.8794, -1.2686,  0.6449,  1.5327,  1.1382, -1.5853,\n",
       "         -0.4932,  3.7164,  0.8306,  0.6382,  2.3434, -0.4979,  0.5460, -2.6044,\n",
       "         -0.7831, -1.4565, -2.1355,  0.4765,  0.9055, -2.2280,  0.2662, -0.6165,\n",
       "         -1.2153,  1.6122, -2.4355, -1.6540,  0.1768,  3.8036,  0.7337, -3.1896,\n",
       "         -5.4013,  0.3825, -2.0010, -4.1242, -3.5523,  1.9179, -2.6726, -4.6785,\n",
       "         -6.9922,  2.1741, -0.2764, -2.6322, -0.8333, -3.2546, -4.0424,  1.3997,\n",
       "         -2.7929,  2.5228,  4.4179,  9.6230, -0.4971,  0.0037, -0.1574, -2.1084,\n",
       "          0.7170,  0.1841,  0.7069, -0.7275, -0.8889,  7.5280, -1.1372, -0.6259,\n",
       "         -0.5958,  3.0537,  3.2551,  2.5787, -5.2035, -0.1594,  0.9050, -1.0018,\n",
       "          0.1305,  0.5450, -2.5364,  1.5478, -4.9679,  0.4929, -0.3852, -0.7399,\n",
       "          2.0757, -3.9041, -2.7115, -0.5348,  1.9834, -2.3898, -2.9926,  3.9969,\n",
       "         -1.6927,  1.8883, -2.6569,  1.9613, -2.6463, -1.4342,  2.5641,  0.6435,\n",
       "          1.2763, -6.2185, -2.9865, -0.5458, -3.2282, -2.3636,  3.4779, -1.1069,\n",
       "         -4.9227, -0.7250,  0.6063,  0.3327, -4.1089, -2.6619,  0.9080, -2.9226,\n",
       "         -0.7551,  1.1125, -3.0578, -5.4398, -4.4031, -0.3469, -2.5294,  0.6878,\n",
       "          1.4583,  2.6672, -0.4523, -3.3458, -0.5371, -3.5806,  2.2057, -3.6435,\n",
       "          3.8601, -2.4204, -3.7486,  2.7201, -0.9244, -2.8928,  2.1214, -1.4223,\n",
       "          1.0627, -1.3846,  4.2707,  0.9996,  0.1653, -1.9527, -4.1847, -3.4912,\n",
       "         -1.0028, -1.7373, -2.7836,  1.6292, -1.4376, -1.0985, -0.4238,  0.1201,\n",
       "         -1.1648,  0.2765,  2.8542, -2.1334, -4.6932, -2.1669, -3.3075, -4.0561,\n",
       "         -0.8873, -0.5199, -0.2893, -0.9204, -2.0840, -1.7985, -1.7377, -1.7065,\n",
       "         -4.3425, -2.8596,  0.9359,  4.3328, -3.0838,  1.3627,  4.0154,  0.9013,\n",
       "         -2.3007,  3.3286, -1.3695, -5.6042, -4.6602,  4.3040, -4.3346,  7.2942,\n",
       "          2.1101, -1.8429, -0.8939, -2.3538, -1.5200, -0.1243,  0.3061, -0.9660,\n",
       "         -1.4256, -4.5457,  1.9108,  0.3614, -3.6826, -4.2924, -1.6562,  0.2424,\n",
       "          0.6888, -2.7334, -0.9476, -3.9580, -0.2348, -3.7454,  6.3696, -3.5819,\n",
       "         -2.6752,  2.5320, -1.0519, -3.2964, -0.0199, -3.8852, -0.3844, -1.5528,\n",
       "          4.6620,  1.5773, -5.0353,  0.8636, -0.9511,  2.2593, -3.2548,  3.2078,\n",
       "         -2.9125, -0.8226, -1.7390, -3.7805,  0.6513, -2.2780, -3.4097,  2.8959,\n",
       "          3.7335,  0.6919, -4.6322, -4.3293,  2.4699,  2.0298,  0.9074, -0.6530,\n",
       "         -0.7976, -3.4278, -0.3576,  1.7490, -4.5784, -0.3195,  0.0239, -0.8887,\n",
       "          3.3054,  0.4771,  1.7401,  3.5931, -1.2832, -3.3322,  3.6626,  0.4781,\n",
       "         -3.6388, -4.1036,  4.0623, -4.4391, -3.5544,  5.7866,  0.2796,  4.0885,\n",
       "         -0.8179,  3.1968,  0.9162,  1.7592, -1.1382, -0.4814, -1.3265, -0.3474,\n",
       "          1.3739,  4.7226, -1.2232,  3.6198,  7.6309, -3.7412, -0.4015, -0.5535,\n",
       "         -0.8548, -2.2741,  2.3347, -3.3978, -3.7224, -0.8399, -4.3335,  0.2254,\n",
       "         -4.0462,  0.3494,  5.3348,  1.3444, -2.4232, -5.8906, -0.2094, -3.6570,\n",
       "         -2.3591, -3.6829,  3.8577, -1.2392, -1.3315,  0.7381, -2.0989, -4.6997,\n",
       "         -3.1913,  2.9257,  3.1510, -4.6319, -2.3725,  8.8086, -0.3074,  3.6632,\n",
       "          1.8146, -1.3384, -0.7907,  0.2170,  1.8040, -0.2438, -0.1514, -2.7391,\n",
       "         -0.6917, -2.6791, -4.2612, -2.1780,  1.8170,  0.2809,  0.9678,  2.8561,\n",
       "          7.1451, -1.2515, -4.4654, -1.8781,  8.7971,  2.0078, -4.2452, -2.5185,\n",
       "         -0.0818, -5.7548, -2.5609, -2.4743, -3.2603,  1.4625,  4.1292,  3.0318,\n",
       "          4.7641, -1.8621,  6.4568, -3.1539,  3.2127, -6.0685, -1.3351,  4.7676,\n",
       "          2.7993,  3.8995,  6.7716,  1.9954, -4.6200,  0.0820, -0.7733,  0.2170,\n",
       "          1.1957, -1.7975, -3.3683,  3.7203, -2.9111,  0.1312, -6.0474,  1.5328,\n",
       "          0.1292,  0.3560,  3.0910, -1.3799, -1.1730, -0.9417, -1.8974, -1.8787,\n",
       "         -0.9617, -2.5704,  4.6091, -0.4411,  2.0408,  4.8087,  0.6618, -3.9334,\n",
       "         -1.5479,  1.0451, -0.5416,  1.9270,  0.7763, -3.5782,  0.9554, -1.9599,\n",
       "         -0.7169,  1.3496, -2.1156, -2.0753, -1.3912, -1.7799, -2.2949,  7.5471,\n",
       "          0.7553,  5.2915, -3.3089, -2.2374,  5.6615,  3.8523,  1.4735, -1.7578,\n",
       "         -2.6998, -2.3974,  1.0008, -4.4882, -3.2437, -3.2589, -2.3173,  7.8576,\n",
       "          3.2549,  1.0160, -0.0951, -1.1098, -2.7936, -0.2333, -3.1706, -1.2317,\n",
       "          1.0950,  1.2789,  3.9729,  0.6501,  1.9177, -2.2499, -1.1577, -0.3309,\n",
       "         -4.2930, -1.4426, -2.9339, -1.8388,  1.0565,  1.1747,  2.9005, -0.7457,\n",
       "          1.7908,  1.3759, -1.0830,  0.7818, -1.5407,  3.9762, -4.2814,  4.7982,\n",
       "          4.0693, -6.3807,  4.2126, -0.4969, -3.7003, -4.7537, -1.0013,  0.1055,\n",
       "          1.5079, -1.4102,  1.5182, -0.4328,  3.2926, -3.8875, -3.8454, -2.1692,\n",
       "         -2.9347, -3.5621, -1.9063, -0.1880,  2.4379,  1.6747,  2.9642, -4.8640,\n",
       "          0.4710, -1.2238, -1.2346, -2.0625,  4.2180,  6.3336,  0.3686, -4.2021,\n",
       "         -1.6255, -0.1688,  6.9520, -1.0549,  4.5829, -0.7246, -2.1126,  7.9555,\n",
       "         -5.1881, -4.7378,  1.4866,  0.7396, -3.2805,  1.4097, -2.0388, -5.0613,\n",
       "         -5.1033, -3.2432, -1.9414, -1.9853, -1.7197, -3.4222, -0.9044, -4.0406,\n",
       "         -1.4913, -4.5633, -4.2052, -2.5364,  1.8457, -2.3640, -1.1215,  2.7676,\n",
       "         -2.8250, -4.1864, -3.6195,  2.1638,  1.9470,  1.4377, -2.0573, -2.7204,\n",
       "         -4.4602, -0.9541, -0.3845, -2.5537,  4.0915,  2.6144, -1.0503, -2.2677,\n",
       "          1.4819, -1.4943,  0.8637, -0.4955,  0.3525, -0.7869,  0.2410,  2.5414,\n",
       "          5.1661,  0.9611, -1.4263,  0.6504, -0.5832,  0.9706,  5.1403,  4.7686,\n",
       "         -1.7817,  0.0392, -2.3186, -3.1828, -0.1895, -2.8400,  0.0710, -1.5631,\n",
       "         -1.3250,  0.9802, -1.3533,  1.2823, -1.6497,  0.6190, -2.9091,  0.6829,\n",
       "          2.9977,  5.7226, -0.1255,  3.9988,  1.1117,  0.5247,  0.5537, -1.1164,\n",
       "         -1.8066,  1.1726, -1.5417,  0.4726,  2.2017, -0.5075,  2.6015,  1.9166,\n",
       "          0.4051, -0.7789,  2.9435,  7.3594,  4.5500,  6.1878,  4.0828,  2.1285,\n",
       "          6.8975,  1.2579,  3.0298, -0.7986,  1.0215,  6.5717,  2.0550, -1.3046,\n",
       "          1.4986,  4.8731, -1.4706,  0.3384, -0.1460, -0.7674,  2.2201,  1.8626,\n",
       "          2.9743,  0.9094, -2.7031,  6.0734, -1.3620,  1.3984, -1.8794, -1.0171,\n",
       "         -2.4715,  2.2651, -0.5844, -4.1890, -0.6631, -1.5947,  1.1686,  0.2054,\n",
       "         -2.5251,  4.6603, -4.0672,  2.9141,  8.2796,  5.8866,  6.6549,  2.6904,\n",
       "          5.5434, -0.2313,  5.4089,  6.5504,  1.7704,  4.5819,  2.2105,  4.9784]],\n",
       "       grad_fn=<ThAddmmBackward>)"
      ]
     },
     "execution_count": 16,
     "metadata": {},
     "output_type": "execute_result"
    }
   ],
   "source": [
    "model_vgg16(inp)"
   ]
  },
  {
   "cell_type": "code",
   "execution_count": 80,
   "metadata": {},
   "outputs": [],
   "source": [
    "inp = inp.cuda()"
   ]
  },
  {
   "cell_type": "code",
   "execution_count": 81,
   "metadata": {},
   "outputs": [],
   "source": [
    "model_vgg16 = model_vgg16.cuda()"
   ]
  },
  {
   "cell_type": "code",
   "execution_count": 195,
   "metadata": {},
   "outputs": [],
   "source": [
    "act, output = feature_extractor(inp)"
   ]
  },
  {
   "cell_type": "code",
   "execution_count": 151,
   "metadata": {
    "collapsed": true
   },
   "outputs": [
    {
     "data": {
      "text/plain": [
       "Sequential(\n",
       "  (0): Conv2d(3, 64, kernel_size=(3, 3), stride=(1, 1), padding=(1, 1))\n",
       "  (1): ReLU(inplace)\n",
       "  (2): Conv2d(64, 64, kernel_size=(3, 3), stride=(1, 1), padding=(1, 1))\n",
       "  (3): ReLU(inplace)\n",
       "  (4): MaxPool2d(kernel_size=2, stride=2, padding=0, dilation=1, ceil_mode=False)\n",
       "  (5): Conv2d(64, 128, kernel_size=(3, 3), stride=(1, 1), padding=(1, 1))\n",
       "  (6): ReLU(inplace)\n",
       "  (7): Conv2d(128, 128, kernel_size=(3, 3), stride=(1, 1), padding=(1, 1))\n",
       "  (8): ReLU(inplace)\n",
       "  (9): MaxPool2d(kernel_size=2, stride=2, padding=0, dilation=1, ceil_mode=False)\n",
       "  (10): Conv2d(128, 256, kernel_size=(3, 3), stride=(1, 1), padding=(1, 1))\n",
       "  (11): ReLU(inplace)\n",
       "  (12): Conv2d(256, 256, kernel_size=(3, 3), stride=(1, 1), padding=(1, 1))\n",
       "  (13): ReLU(inplace)\n",
       "  (14): Conv2d(256, 256, kernel_size=(3, 3), stride=(1, 1), padding=(1, 1))\n",
       "  (15): ReLU(inplace)\n",
       "  (16): MaxPool2d(kernel_size=2, stride=2, padding=0, dilation=1, ceil_mode=False)\n",
       "  (17): Conv2d(256, 512, kernel_size=(3, 3), stride=(1, 1), padding=(1, 1))\n",
       "  (18): ReLU(inplace)\n",
       "  (19): Conv2d(512, 512, kernel_size=(3, 3), stride=(1, 1), padding=(1, 1))\n",
       "  (20): ReLU(inplace)\n",
       "  (21): Conv2d(512, 512, kernel_size=(3, 3), stride=(1, 1), padding=(1, 1))\n",
       "  (22): ReLU(inplace)\n",
       "  (23): MaxPool2d(kernel_size=2, stride=2, padding=0, dilation=1, ceil_mode=False)\n",
       "  (24): Conv2d(512, 512, kernel_size=(3, 3), stride=(1, 1), padding=(1, 1))\n",
       "  (25): ReLU(inplace)\n",
       "  (26): Conv2d(512, 512, kernel_size=(3, 3), stride=(1, 1), padding=(1, 1))\n",
       "  (27): ReLU(inplace)\n",
       "  (28): Conv2d(512, 512, kernel_size=(3, 3), stride=(1, 1), padding=(1, 1))\n",
       "  (29): ReLU(inplace)\n",
       "  (30): MaxPool2d(kernel_size=2, stride=2, padding=0, dilation=1, ceil_mode=False)\n",
       ")"
      ]
     },
     "execution_count": 151,
     "metadata": {},
     "output_type": "execute_result"
    }
   ],
   "source": [
    "model_vgg16.features"
   ]
  },
  {
   "cell_type": "code",
   "execution_count": 152,
   "metadata": {
    "collapsed": true
   },
   "outputs": [
    {
     "data": {
      "text/plain": [
       "Sequential(\n",
       "  (0): Conv2d(3, 64, kernel_size=(3, 3), stride=(1, 1), padding=(1, 1))\n",
       "  (1): ReLU(inplace)\n",
       "  (2): Conv2d(64, 64, kernel_size=(3, 3), stride=(1, 1), padding=(1, 1))\n",
       "  (3): ReLU(inplace)\n",
       "  (4): MaxPool2d(kernel_size=2, stride=2, padding=0, dilation=1, ceil_mode=False)\n",
       "  (5): Conv2d(64, 128, kernel_size=(3, 3), stride=(1, 1), padding=(1, 1))\n",
       "  (6): ReLU(inplace)\n",
       "  (7): Conv2d(128, 128, kernel_size=(3, 3), stride=(1, 1), padding=(1, 1))\n",
       "  (8): ReLU(inplace)\n",
       "  (9): MaxPool2d(kernel_size=2, stride=2, padding=0, dilation=1, ceil_mode=False)\n",
       "  (10): Conv2d(128, 256, kernel_size=(3, 3), stride=(1, 1), padding=(1, 1))\n",
       "  (11): ReLU(inplace)\n",
       "  (12): Conv2d(256, 256, kernel_size=(3, 3), stride=(1, 1), padding=(1, 1))\n",
       "  (13): ReLU(inplace)\n",
       "  (14): Conv2d(256, 256, kernel_size=(3, 3), stride=(1, 1), padding=(1, 1))\n",
       "  (15): ReLU(inplace)\n",
       "  (16): Conv2d(256, 256, kernel_size=(3, 3), stride=(1, 1), padding=(1, 1))\n",
       "  (17): ReLU(inplace)\n",
       "  (18): MaxPool2d(kernel_size=2, stride=2, padding=0, dilation=1, ceil_mode=False)\n",
       "  (19): Conv2d(256, 512, kernel_size=(3, 3), stride=(1, 1), padding=(1, 1))\n",
       "  (20): ReLU(inplace)\n",
       "  (21): Conv2d(512, 512, kernel_size=(3, 3), stride=(1, 1), padding=(1, 1))\n",
       "  (22): ReLU(inplace)\n",
       "  (23): Conv2d(512, 512, kernel_size=(3, 3), stride=(1, 1), padding=(1, 1))\n",
       "  (24): ReLU(inplace)\n",
       "  (25): Conv2d(512, 512, kernel_size=(3, 3), stride=(1, 1), padding=(1, 1))\n",
       "  (26): ReLU(inplace)\n",
       "  (27): MaxPool2d(kernel_size=2, stride=2, padding=0, dilation=1, ceil_mode=False)\n",
       "  (28): Conv2d(512, 512, kernel_size=(3, 3), stride=(1, 1), padding=(1, 1))\n",
       "  (29): ReLU(inplace)\n",
       "  (30): Conv2d(512, 512, kernel_size=(3, 3), stride=(1, 1), padding=(1, 1))\n",
       "  (31): ReLU(inplace)\n",
       "  (32): Conv2d(512, 512, kernel_size=(3, 3), stride=(1, 1), padding=(1, 1))\n",
       "  (33): ReLU(inplace)\n",
       "  (34): Conv2d(512, 512, kernel_size=(3, 3), stride=(1, 1), padding=(1, 1))\n",
       "  (35): ReLU(inplace)\n",
       "  (36): MaxPool2d(kernel_size=2, stride=2, padding=0, dilation=1, ceil_mode=False)\n",
       ")"
      ]
     },
     "execution_count": 152,
     "metadata": {},
     "output_type": "execute_result"
    }
   ],
   "source": [
    "model_vgg19.features"
   ]
  },
  {
   "cell_type": "code",
   "execution_count": 201,
   "metadata": {},
   "outputs": [
    {
     "data": {
      "text/plain": [
       "torch.Size([1, 512, 7, 7])"
      ]
     },
     "execution_count": 201,
     "metadata": {},
     "output_type": "execute_result"
    }
   ],
   "source": [
    "output.size()"
   ]
  },
  {
   "cell_type": "code",
   "execution_count": 203,
   "metadata": {},
   "outputs": [
    {
     "data": {
      "text/plain": [
       "torch.Size([1, 25088])"
      ]
     },
     "execution_count": 203,
     "metadata": {},
     "output_type": "execute_result"
    }
   ],
   "source": [
    "output.view(output.size(0),-1).size()"
   ]
  },
  {
   "cell_type": "code",
   "execution_count": 206,
   "metadata": {},
   "outputs": [],
   "source": [
    "a = 1"
   ]
  },
  {
   "cell_type": "code",
   "execution_count": 207,
   "metadata": {},
   "outputs": [
    {
     "name": "stdout",
     "output_type": "stream",
     "text": [
      "lol\n"
     ]
    }
   ],
   "source": [
    "print('hi') if a is None else print('lol')"
   ]
  },
  {
   "cell_type": "code",
   "execution_count": 229,
   "metadata": {},
   "outputs": [
    {
     "data": {
      "text/plain": [
       "(512, 14, 14)"
      ]
     },
     "execution_count": 229,
     "metadata": {},
     "output_type": "execute_result"
    }
   ],
   "source": [
    "act[-1].cpu().data.numpy()[0].shape"
   ]
  },
  {
   "cell_type": "code",
   "execution_count": 230,
   "metadata": {},
   "outputs": [
    {
     "data": {
      "text/plain": [
       "(512, 14, 14)"
      ]
     },
     "execution_count": 230,
     "metadata": {},
     "output_type": "execute_result"
    }
   ],
   "source": [
    "act[-1].cpu().data.numpy()[0, :].shape"
   ]
  },
  {
   "cell_type": "code",
   "execution_count": 82,
   "metadata": {},
   "outputs": [],
   "source": [
    "img = inp"
   ]
  },
  {
   "cell_type": "code",
   "execution_count": 83,
   "metadata": {},
   "outputs": [],
   "source": [
    "extractfeatures = ExtractFeatures(model_vgg16, '29')"
   ]
  },
  {
   "cell_type": "code",
   "execution_count": 84,
   "metadata": {},
   "outputs": [],
   "source": [
    "feature, output = extractfeatures.record_and_feed_forward(img)"
   ]
  },
  {
   "cell_type": "code",
   "execution_count": 85,
   "metadata": {},
   "outputs": [],
   "source": [
    "class_code = np.argmax(output.cpu().data.numpy())"
   ]
  },
  {
   "cell_type": "code",
   "execution_count": 86,
   "metadata": {},
   "outputs": [],
   "source": [
    "one_hot = np.zeros((1, output.size()[-1]), dtype = np.float32)\n",
    "one_hot[0][class_code] = 1\n",
    "one_hot = torch.from_numpy(one_hot)\n",
    "one_hot.requires_grad = True\n",
    "one_hot = one_hot.cuda()"
   ]
  },
  {
   "cell_type": "code",
   "execution_count": 87,
   "metadata": {},
   "outputs": [],
   "source": [
    "activation_value = torch.sum(torch.mm(one_hot, output.t()))"
   ]
  },
  {
   "cell_type": "code",
   "execution_count": 88,
   "metadata": {},
   "outputs": [
    {
     "data": {
      "text/plain": [
       "torch.Size([1000])"
      ]
     },
     "execution_count": 88,
     "metadata": {},
     "output_type": "execute_result"
    }
   ],
   "source": [
    "output[0].shape"
   ]
  },
  {
   "cell_type": "code",
   "execution_count": 89,
   "metadata": {},
   "outputs": [],
   "source": [
    "activation_value = output[0][class_code]"
   ]
  },
  {
   "cell_type": "code",
   "execution_count": 90,
   "metadata": {},
   "outputs": [
    {
     "data": {
      "text/plain": [
       "tensor(15.6454, device='cuda:0', grad_fn=<SelectBackward>)"
      ]
     },
     "execution_count": 90,
     "metadata": {},
     "output_type": "execute_result"
    }
   ],
   "source": [
    "activation_value"
   ]
  },
  {
   "cell_type": "code",
   "execution_count": 91,
   "metadata": {},
   "outputs": [],
   "source": [
    "model_vgg16.features.zero_grad()\n",
    "model_vgg16.classifier.zero_grad()"
   ]
  },
  {
   "cell_type": "code",
   "execution_count": 92,
   "metadata": {},
   "outputs": [],
   "source": [
    "activation_value.backward()"
   ]
  },
  {
   "cell_type": "code",
   "execution_count": 93,
   "metadata": {},
   "outputs": [],
   "source": [
    "grads = extractfeatures.gradients[-1].cpu().data.numpy()"
   ]
  },
  {
   "cell_type": "code",
   "execution_count": 94,
   "metadata": {},
   "outputs": [
    {
     "data": {
      "text/plain": [
       "(1, 512, 14, 14)"
      ]
     },
     "execution_count": 94,
     "metadata": {},
     "output_type": "execute_result"
    }
   ],
   "source": [
    "grads.shape"
   ]
  },
  {
   "cell_type": "code",
   "execution_count": 95,
   "metadata": {},
   "outputs": [],
   "source": [
    "grads = np.mean(grads, axis = (2,3))[0]"
   ]
  },
  {
   "cell_type": "code",
   "execution_count": 96,
   "metadata": {},
   "outputs": [],
   "source": [
    "target_layer = feature.cpu().data.numpy()[0] # in case the input target_layer is multiple"
   ]
  },
  {
   "cell_type": "code",
   "execution_count": 115,
   "metadata": {},
   "outputs": [],
   "source": [
    "cam = np.zeros(target_layer.shape[1 : ], dtype = np.float32)"
   ]
  },
  {
   "cell_type": "code",
   "execution_count": 116,
   "metadata": {},
   "outputs": [],
   "source": [
    "for i, w in enumerate(grads):\n",
    "    cam += w * target_layer[i, :, :]\n",
    "cam = np.maximum(cam, 0)\n",
    "cam = cv2.resize(cam, (600, 450))\n",
    "cam = cam - np.min(cam)\n",
    "cam = cam / np.max(cam)"
   ]
  },
  {
   "cell_type": "code",
   "execution_count": 10,
   "metadata": {},
   "outputs": [],
   "source": [
    "image_path = '/home/paperspace/projects/skin_cancer/data/skin-cancer-mnist-ham10000/HAM10000_images_part_1/ISIC_0025713.jpg'\n",
    "img = cv2.imread(image_path, 1)\n",
    "img = np.float32(cv2.resize(img, (224, 224))) / 255\n",
    "#img = np.float32(img) / 255"
   ]
  },
  {
   "cell_type": "code",
   "execution_count": 118,
   "metadata": {},
   "outputs": [
    {
     "data": {
      "text/plain": [
       "(450, 600, 3)"
      ]
     },
     "execution_count": 118,
     "metadata": {},
     "output_type": "execute_result"
    }
   ],
   "source": [
    "img.shape"
   ]
  },
  {
   "cell_type": "code",
   "execution_count": 119,
   "metadata": {},
   "outputs": [],
   "source": [
    "heatmap = cv2.applyColorMap(np.uint8(255*cam), cv2.COLORMAP_JET)\n",
    "heatmap = np.float32(heatmap) / 255\n",
    "cam_ = heatmap + np.float32(img)\n",
    "cam_ = cam_ / np.max(cam_)"
   ]
  },
  {
   "cell_type": "code",
   "execution_count": null,
   "metadata": {},
   "outputs": [],
   "source": [
    "cv2.imshow('img', cam_)"
   ]
  },
  {
   "cell_type": "code",
   "execution_count": 120,
   "metadata": {},
   "outputs": [
    {
     "data": {
      "text/plain": [
       "True"
      ]
     },
     "execution_count": 120,
     "metadata": {},
     "output_type": "execute_result"
    }
   ],
   "source": [
    "cv2.imwrite(\"cam.jpg\", np.uint8(255 * cam_))"
   ]
  },
  {
   "cell_type": "code",
   "execution_count": 103,
   "metadata": {},
   "outputs": [
    {
     "data": {
      "text/plain": [
       "array([[189, 189, 189, ...,  89,  89,  89],\n",
       "       [189, 189, 189, ...,  89,  89,  89],\n",
       "       [189, 189, 189, ...,  89,  89,  89],\n",
       "       ..., \n",
       "       [226, 226, 226, ..., 255, 255, 255],\n",
       "       [226, 226, 226, ..., 255, 255, 255],\n",
       "       [226, 226, 226, ..., 255, 255, 255]], dtype=uint8)"
      ]
     },
     "execution_count": 103,
     "metadata": {},
     "output_type": "execute_result"
    }
   ],
   "source": [
    "np.uint8(255*cam)"
   ]
  },
  {
   "cell_type": "code",
   "execution_count": 2,
   "metadata": {},
   "outputs": [
    {
     "ename": "ModuleNotFoundError",
     "evalue": "No module named 'vgg_pretrained'",
     "output_type": "error",
     "traceback": [
      "\u001b[0;31m---------------------------------------------------------------------------\u001b[0m",
      "\u001b[0;31mModuleNotFoundError\u001b[0m                       Traceback (most recent call last)",
      "\u001b[0;32m<ipython-input-2-1f34ed821100>\u001b[0m in \u001b[0;36m<module>\u001b[0;34m()\u001b[0m\n\u001b[0;32m----> 1\u001b[0;31m \u001b[0;32mfrom\u001b[0m \u001b[0mvgg_pretrained\u001b[0m \u001b[0;32mimport\u001b[0m \u001b[0mvgg_preloaded\u001b[0m\u001b[0;34m,\u001b[0m \u001b[0mMelaData\u001b[0m\u001b[0;34m,\u001b[0m \u001b[0mtrain\u001b[0m\u001b[0;34m\u001b[0m\u001b[0m\n\u001b[0m",
      "\u001b[0;31mModuleNotFoundError\u001b[0m: No module named 'vgg_pretrained'"
     ]
    }
   ],
   "source": [
    "from vgg_pretrained import vgg_preloaded, MelaData, train"
   ]
  },
  {
   "cell_type": "code",
   "execution_count": 3,
   "metadata": {},
   "outputs": [
    {
     "ename": "ModuleNotFoundError",
     "evalue": "No module named '_future_'",
     "output_type": "error",
     "traceback": [
      "\u001b[0;31m---------------------------------------------------------------------------\u001b[0m",
      "\u001b[0;31mModuleNotFoundError\u001b[0m                       Traceback (most recent call last)",
      "\u001b[0;32m<ipython-input-3-a39fde2d57c3>\u001b[0m in \u001b[0;36m<module>\u001b[0;34m()\u001b[0m\n\u001b[0;32m----> 1\u001b[0;31m \u001b[0;32mfrom\u001b[0m \u001b[0m_future_\u001b[0m \u001b[0;32mimport\u001b[0m \u001b[0mprint_function\u001b[0m\u001b[0;34m,\u001b[0m \u001b[0mdivision\u001b[0m\u001b[0;34m\u001b[0m\u001b[0m\n\u001b[0m\u001b[1;32m      2\u001b[0m \u001b[0;32mimport\u001b[0m \u001b[0mos\u001b[0m\u001b[0;34m\u001b[0m\u001b[0m\n\u001b[1;32m      3\u001b[0m \u001b[0;32mimport\u001b[0m \u001b[0mtorch\u001b[0m\u001b[0;34m\u001b[0m\u001b[0m\n\u001b[1;32m      4\u001b[0m \u001b[0;32mimport\u001b[0m \u001b[0mpandas\u001b[0m \u001b[0;32mas\u001b[0m \u001b[0mpd\u001b[0m\u001b[0;34m\u001b[0m\u001b[0m\n\u001b[1;32m      5\u001b[0m \u001b[0;32mfrom\u001b[0m \u001b[0mskimage\u001b[0m \u001b[0;32mimport\u001b[0m \u001b[0mio\u001b[0m\u001b[0;34m,\u001b[0m \u001b[0mtransform\u001b[0m\u001b[0;34m\u001b[0m\u001b[0m\n",
      "\u001b[0;31mModuleNotFoundError\u001b[0m: No module named '_future_'"
     ]
    }
   ],
   "source": [
    "from _future_ import print_function, division\n",
    "import os\n",
    "import torch\n",
    "import pandas as pd\n",
    "from skimage import io, transform\n",
    "import numpy as np\n",
    "import matplotlib.pyplot as plt\n",
    "from torch.utils.data import Dataset, DataLoader\n",
    "import torch.nn as nn\n",
    "from torchvision import models, transforms, utils\n",
    "from PIL import Image\n",
    "from tqdm import tqdm\n",
    "from torch.optim import Adam"
   ]
  },
  {
   "cell_type": "code",
   "execution_count": null,
   "metadata": {},
   "outputs": [],
   "source": []
  }
 ],
 "metadata": {
  "kernelspec": {
   "display_name": "Python 3",
   "language": "python",
   "name": "python3"
  },
  "language_info": {
   "codemirror_mode": {
    "name": "ipython",
    "version": 3
   },
   "file_extension": ".py",
   "mimetype": "text/x-python",
   "name": "python",
   "nbconvert_exporter": "python",
   "pygments_lexer": "ipython3",
   "version": "3.6.4"
  }
 },
 "nbformat": 4,
 "nbformat_minor": 2
}
