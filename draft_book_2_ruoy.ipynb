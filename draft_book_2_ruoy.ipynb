{
 "cells": [
  {
   "cell_type": "code",
   "execution_count": 1,
   "metadata": {},
   "outputs": [],
   "source": [
    "from vgg_pretrained import vgg_preloaded, MelaData, train, train_val_test_split, test_model\n",
    "import pickle\n",
    "import torch"
   ]
  },
  {
   "cell_type": "code",
   "execution_count": 2,
   "metadata": {},
   "outputs": [],
   "source": [
    "data_d = '/home/paperspace/projects/skin_cancer/data/skin-cancer-mnist-ham10000/HAM10000_images_part_1/'\n",
    "label_dir = '/home/paperspace/projects/skin_cancer/data/skin-cancer-mnist-ham10000/HAM10000_metadata.csv'\n",
    "save_dir = '/home/paperspace/projects/skin_cancer/data/res_model/'\n",
    "epoch = 500\n",
    "mb = 12\n",
    "num_class = 7\n",
    "num_workers = 1\n",
    "cuda = True\n",
    "conti = False\n",
    "final_save = True\n",
    "name = 'test_model'\n",
    "lr = 1e-6\n",
    "stage = 'transfer'\n",
    "save_freq = 50"
   ]
  },
  {
   "cell_type": "code",
   "execution_count": 3,
   "metadata": {
    "collapsed": true
   },
   "outputs": [
    {
     "name": "stderr",
     "output_type": "stream",
     "text": [
      "[Epoch 1]: 100%|██████████| 585/585 [03:00<00:00,  3.24it/s]\n",
      "[Epoch 2]:   0%|          | 0/585 [00:00<?, ?it/s]"
     ]
    },
    {
     "name": "stdout",
     "output_type": "stream",
     "text": [
      "Train - Loss: 1.2080 Acc: 0.6247\n"
     ]
    },
    {
     "name": "stderr",
     "output_type": "stream",
     "text": [
      "[Epoch 2]: 100%|██████████| 585/585 [03:01<00:00,  3.23it/s]\n",
      "[Epoch 3]:   0%|          | 0/585 [00:00<?, ?it/s]"
     ]
    },
    {
     "name": "stdout",
     "output_type": "stream",
     "text": [
      "Train - Loss: 0.9516 Acc: 0.6787\n"
     ]
    },
    {
     "name": "stderr",
     "output_type": "stream",
     "text": [
      "[Epoch 3]: 100%|██████████| 585/585 [03:01<00:00,  3.23it/s]\n",
      "[Epoch 4]:   0%|          | 0/585 [00:00<?, ?it/s]"
     ]
    },
    {
     "name": "stdout",
     "output_type": "stream",
     "text": [
      "Train - Loss: 0.8848 Acc: 0.6947\n"
     ]
    },
    {
     "name": "stderr",
     "output_type": "stream",
     "text": [
      "[Epoch 4]: 100%|██████████| 585/585 [03:00<00:00,  3.23it/s]\n",
      "[Epoch 5]:   0%|          | 0/585 [00:00<?, ?it/s]"
     ]
    },
    {
     "name": "stdout",
     "output_type": "stream",
     "text": [
      "Train - Loss: 0.8296 Acc: 0.7073\n"
     ]
    },
    {
     "name": "stderr",
     "output_type": "stream",
     "text": [
      "[Epoch 5]: 100%|██████████| 585/585 [03:00<00:00,  3.23it/s]\n",
      "[Epoch 6]:   0%|          | 0/585 [00:00<?, ?it/s]"
     ]
    },
    {
     "name": "stdout",
     "output_type": "stream",
     "text": [
      "Train - Loss: 0.7921 Acc: 0.7167\n"
     ]
    },
    {
     "name": "stderr",
     "output_type": "stream",
     "text": [
      "[Epoch 7]: 100%|██████████| 585/585 [03:00<00:00,  3.23it/s]\n",
      "[Epoch 8]:   0%|          | 0/585 [00:00<?, ?it/s]"
     ]
    },
    {
     "name": "stdout",
     "output_type": "stream",
     "text": [
      "Train - Loss: 0.7291 Acc: 0.7364\n"
     ]
    },
    {
     "name": "stderr",
     "output_type": "stream",
     "text": [
      "[Epoch 8]: 100%|██████████| 585/585 [03:01<00:00,  3.23it/s]\n",
      "[Epoch 9]:   0%|          | 0/585 [00:00<?, ?it/s]"
     ]
    },
    {
     "name": "stdout",
     "output_type": "stream",
     "text": [
      "Train - Loss: 0.7041 Acc: 0.7445\n"
     ]
    },
    {
     "name": "stderr",
     "output_type": "stream",
     "text": [
      "[Epoch 9]: 100%|██████████| 585/585 [03:01<00:00,  3.23it/s]\n",
      "[Epoch 10]:   0%|          | 0/585 [00:00<?, ?it/s]"
     ]
    },
    {
     "name": "stdout",
     "output_type": "stream",
     "text": [
      "Train - Loss: 0.6874 Acc: 0.7521\n"
     ]
    },
    {
     "name": "stderr",
     "output_type": "stream",
     "text": [
      "[Epoch 10]: 100%|██████████| 585/585 [03:01<00:00,  3.23it/s]\n",
      "[Epoch 11]:   0%|          | 0/585 [00:00<?, ?it/s]"
     ]
    },
    {
     "name": "stdout",
     "output_type": "stream",
     "text": [
      "Train - Loss: 0.6571 Acc: 0.7675\n"
     ]
    },
    {
     "name": "stderr",
     "output_type": "stream",
     "text": [
      "[Epoch 11]: 100%|██████████| 585/585 [03:01<00:00,  3.23it/s]\n",
      "[Epoch 12]:   0%|          | 0/585 [00:00<?, ?it/s]"
     ]
    },
    {
     "name": "stdout",
     "output_type": "stream",
     "text": [
      "Train - Loss: 0.6461 Acc: 0.7668\n"
     ]
    },
    {
     "name": "stderr",
     "output_type": "stream",
     "text": [
      "[Epoch 12]: 100%|██████████| 585/585 [03:00<00:00,  3.23it/s]\n",
      "[Epoch 13]:   0%|          | 0/585 [00:00<?, ?it/s]"
     ]
    },
    {
     "name": "stdout",
     "output_type": "stream",
     "text": [
      "Train - Loss: 0.6267 Acc: 0.7728\n"
     ]
    },
    {
     "name": "stderr",
     "output_type": "stream",
     "text": [
      "[Epoch 13]: 100%|██████████| 585/585 [03:01<00:00,  3.23it/s]\n",
      "[Epoch 14]:   0%|          | 0/585 [00:00<?, ?it/s]"
     ]
    },
    {
     "name": "stdout",
     "output_type": "stream",
     "text": [
      "Train - Loss: 0.6122 Acc: 0.7809\n"
     ]
    },
    {
     "name": "stderr",
     "output_type": "stream",
     "text": [
      "[Epoch 14]: 100%|██████████| 585/585 [03:01<00:00,  3.23it/s]\n",
      "[Epoch 15]:   0%|          | 0/585 [00:00<?, ?it/s]"
     ]
    },
    {
     "name": "stdout",
     "output_type": "stream",
     "text": [
      "Train - Loss: 0.5911 Acc: 0.7853\n"
     ]
    },
    {
     "name": "stderr",
     "output_type": "stream",
     "text": [
      "[Epoch 15]: 100%|██████████| 585/585 [03:00<00:00,  3.23it/s]\n",
      "[Epoch 16]:   0%|          | 0/585 [00:00<?, ?it/s]"
     ]
    },
    {
     "name": "stdout",
     "output_type": "stream",
     "text": [
      "Train - Loss: 0.5806 Acc: 0.7893\n"
     ]
    },
    {
     "name": "stderr",
     "output_type": "stream",
     "text": [
      "[Epoch 16]: 100%|██████████| 585/585 [03:00<00:00,  3.23it/s]\n",
      "[Epoch 17]:   0%|          | 0/585 [00:00<?, ?it/s]"
     ]
    },
    {
     "name": "stdout",
     "output_type": "stream",
     "text": [
      "Train - Loss: 0.5603 Acc: 0.7980\n"
     ]
    },
    {
     "name": "stderr",
     "output_type": "stream",
     "text": [
      "[Epoch 17]: 100%|██████████| 585/585 [03:01<00:00,  3.23it/s]\n",
      "[Epoch 18]:   0%|          | 0/585 [00:00<?, ?it/s]"
     ]
    },
    {
     "name": "stdout",
     "output_type": "stream",
     "text": [
      "Train - Loss: 0.5634 Acc: 0.7979\n"
     ]
    },
    {
     "name": "stderr",
     "output_type": "stream",
     "text": [
      "[Epoch 18]: 100%|██████████| 585/585 [03:00<00:00,  3.23it/s]\n",
      "[Epoch 19]:   0%|          | 0/585 [00:00<?, ?it/s]"
     ]
    },
    {
     "name": "stdout",
     "output_type": "stream",
     "text": [
      "Train - Loss: 0.5508 Acc: 0.8016\n"
     ]
    },
    {
     "name": "stderr",
     "output_type": "stream",
     "text": [
      "[Epoch 19]: 100%|██████████| 585/585 [03:00<00:00,  3.23it/s]\n",
      "[Epoch 20]:   0%|          | 0/585 [00:00<?, ?it/s]"
     ]
    },
    {
     "name": "stdout",
     "output_type": "stream",
     "text": [
      "Train - Loss: 0.5381 Acc: 0.8057\n"
     ]
    },
    {
     "name": "stderr",
     "output_type": "stream",
     "text": [
      "[Epoch 20]: 100%|██████████| 585/585 [03:01<00:00,  3.23it/s]\n",
      "[Epoch 21]:   0%|          | 0/585 [00:00<?, ?it/s]"
     ]
    },
    {
     "name": "stdout",
     "output_type": "stream",
     "text": [
      "Train - Loss: 0.5229 Acc: 0.8110\n"
     ]
    },
    {
     "name": "stderr",
     "output_type": "stream",
     "text": [
      "[Epoch 21]: 100%|██████████| 585/585 [03:00<00:00,  3.23it/s]\n",
      "[Epoch 22]:   0%|          | 0/585 [00:00<?, ?it/s]"
     ]
    },
    {
     "name": "stdout",
     "output_type": "stream",
     "text": [
      "Train - Loss: 0.5236 Acc: 0.8106\n"
     ]
    },
    {
     "name": "stderr",
     "output_type": "stream",
     "text": [
      "[Epoch 22]: 100%|██████████| 585/585 [03:01<00:00,  3.23it/s]\n",
      "[Epoch 23]:   0%|          | 0/585 [00:00<?, ?it/s]"
     ]
    },
    {
     "name": "stdout",
     "output_type": "stream",
     "text": [
      "Train - Loss: 0.5165 Acc: 0.8100\n"
     ]
    },
    {
     "name": "stderr",
     "output_type": "stream",
     "text": [
      "[Epoch 23]: 100%|██████████| 585/585 [03:01<00:00,  3.23it/s]\n",
      "[Epoch 24]:   0%|          | 0/585 [00:00<?, ?it/s]"
     ]
    },
    {
     "name": "stdout",
     "output_type": "stream",
     "text": [
      "Train - Loss: 0.4978 Acc: 0.8225\n"
     ]
    },
    {
     "name": "stderr",
     "output_type": "stream",
     "text": [
      "[Epoch 24]: 100%|██████████| 585/585 [03:01<00:00,  3.23it/s]\n",
      "[Epoch 25]:   0%|          | 0/585 [00:00<?, ?it/s]"
     ]
    },
    {
     "name": "stdout",
     "output_type": "stream",
     "text": [
      "Train - Loss: 0.4902 Acc: 0.8255\n"
     ]
    },
    {
     "name": "stderr",
     "output_type": "stream",
     "text": [
      "[Epoch 25]: 100%|██████████| 585/585 [03:00<00:00,  3.23it/s]\n",
      "[Epoch 26]:   0%|          | 0/585 [00:00<?, ?it/s]"
     ]
    },
    {
     "name": "stdout",
     "output_type": "stream",
     "text": [
      "Train - Loss: 0.4854 Acc: 0.8240\n"
     ]
    },
    {
     "name": "stderr",
     "output_type": "stream",
     "text": [
      "[Epoch 26]: 100%|██████████| 585/585 [03:00<00:00,  3.23it/s]\n",
      "[Epoch 27]:   0%|          | 0/585 [00:00<?, ?it/s]"
     ]
    },
    {
     "name": "stdout",
     "output_type": "stream",
     "text": [
      "Train - Loss: 0.4734 Acc: 0.8278\n"
     ]
    },
    {
     "name": "stderr",
     "output_type": "stream",
     "text": [
      "[Epoch 27]: 100%|██████████| 585/585 [03:00<00:00,  3.23it/s]\n",
      "[Epoch 28]:   0%|          | 0/585 [00:00<?, ?it/s]"
     ]
    },
    {
     "name": "stdout",
     "output_type": "stream",
     "text": [
      "Train - Loss: 0.4711 Acc: 0.8257\n"
     ]
    },
    {
     "name": "stderr",
     "output_type": "stream",
     "text": [
      "[Epoch 28]: 100%|██████████| 585/585 [03:00<00:00,  3.23it/s]\n",
      "[Epoch 29]:   0%|          | 0/585 [00:00<?, ?it/s]"
     ]
    },
    {
     "name": "stdout",
     "output_type": "stream",
     "text": [
      "Train - Loss: 0.4617 Acc: 0.8357\n"
     ]
    },
    {
     "name": "stderr",
     "output_type": "stream",
     "text": [
      "[Epoch 29]: 100%|██████████| 585/585 [03:00<00:00,  3.23it/s]\n",
      "[Epoch 30]:   0%|          | 0/585 [00:00<?, ?it/s]"
     ]
    },
    {
     "name": "stdout",
     "output_type": "stream",
     "text": [
      "Train - Loss: 0.4612 Acc: 0.8315\n"
     ]
    },
    {
     "name": "stderr",
     "output_type": "stream",
     "text": [
      "[Epoch 30]: 100%|██████████| 585/585 [03:01<00:00,  3.23it/s]\n",
      "[Epoch 31]:   0%|          | 0/585 [00:00<?, ?it/s]"
     ]
    },
    {
     "name": "stdout",
     "output_type": "stream",
     "text": [
      "Train - Loss: 0.4504 Acc: 0.8382\n"
     ]
    },
    {
     "name": "stderr",
     "output_type": "stream",
     "text": [
      "[Epoch 31]: 100%|██████████| 585/585 [03:01<00:00,  3.23it/s]\n",
      "[Epoch 32]:   0%|          | 0/585 [00:00<?, ?it/s]"
     ]
    },
    {
     "name": "stdout",
     "output_type": "stream",
     "text": [
      "Train - Loss: 0.4457 Acc: 0.8362\n"
     ]
    },
    {
     "name": "stderr",
     "output_type": "stream",
     "text": [
      "[Epoch 32]: 100%|██████████| 585/585 [03:00<00:00,  3.23it/s]\n",
      "[Epoch 33]:   0%|          | 0/585 [00:00<?, ?it/s]"
     ]
    },
    {
     "name": "stdout",
     "output_type": "stream",
     "text": [
      "Train - Loss: 0.4433 Acc: 0.8402\n"
     ]
    },
    {
     "name": "stderr",
     "output_type": "stream",
     "text": [
      "[Epoch 33]: 100%|██████████| 585/585 [03:00<00:00,  3.23it/s]\n",
      "[Epoch 34]:   0%|          | 0/585 [00:00<?, ?it/s]"
     ]
    },
    {
     "name": "stdout",
     "output_type": "stream",
     "text": [
      "Train - Loss: 0.4276 Acc: 0.8455\n"
     ]
    },
    {
     "name": "stderr",
     "output_type": "stream",
     "text": [
      "[Epoch 34]: 100%|██████████| 585/585 [03:00<00:00,  3.23it/s]\n",
      "[Epoch 35]:   0%|          | 0/585 [00:00<?, ?it/s]"
     ]
    },
    {
     "name": "stdout",
     "output_type": "stream",
     "text": [
      "Train - Loss: 0.4270 Acc: 0.8461\n"
     ]
    },
    {
     "name": "stderr",
     "output_type": "stream",
     "text": [
      "[Epoch 35]: 100%|██████████| 585/585 [03:00<00:00,  3.23it/s]\n",
      "[Epoch 36]:   0%|          | 0/585 [00:00<?, ?it/s]"
     ]
    },
    {
     "name": "stdout",
     "output_type": "stream",
     "text": [
      "Train - Loss: 0.4163 Acc: 0.8459\n"
     ]
    },
    {
     "name": "stderr",
     "output_type": "stream",
     "text": [
      "[Epoch 36]: 100%|██████████| 585/585 [03:00<00:00,  3.23it/s]\n",
      "[Epoch 37]:   0%|          | 0/585 [00:00<?, ?it/s]"
     ]
    },
    {
     "name": "stdout",
     "output_type": "stream",
     "text": [
      "Train - Loss: 0.4150 Acc: 0.8514\n"
     ]
    },
    {
     "name": "stderr",
     "output_type": "stream",
     "text": [
      "[Epoch 37]: 100%|██████████| 585/585 [03:00<00:00,  3.23it/s]\n",
      "[Epoch 38]:   0%|          | 0/585 [00:00<?, ?it/s]"
     ]
    },
    {
     "name": "stdout",
     "output_type": "stream",
     "text": [
      "Train - Loss: 0.4196 Acc: 0.8468\n"
     ]
    },
    {
     "name": "stderr",
     "output_type": "stream",
     "text": [
      "[Epoch 38]: 100%|██████████| 585/585 [03:00<00:00,  3.23it/s]\n",
      "[Epoch 39]:   0%|          | 0/585 [00:00<?, ?it/s]"
     ]
    },
    {
     "name": "stdout",
     "output_type": "stream",
     "text": [
      "Train - Loss: 0.4124 Acc: 0.8472\n"
     ]
    },
    {
     "name": "stderr",
     "output_type": "stream",
     "text": [
      "[Epoch 39]: 100%|██████████| 585/585 [03:00<00:00,  3.23it/s]\n",
      "[Epoch 40]:   0%|          | 0/585 [00:00<?, ?it/s]"
     ]
    },
    {
     "name": "stdout",
     "output_type": "stream",
     "text": [
      "Train - Loss: 0.4028 Acc: 0.8522\n"
     ]
    },
    {
     "name": "stderr",
     "output_type": "stream",
     "text": [
      "[Epoch 40]: 100%|██████████| 585/585 [03:00<00:00,  3.23it/s]\n",
      "[Epoch 41]:   0%|          | 0/585 [00:00<?, ?it/s]"
     ]
    },
    {
     "name": "stdout",
     "output_type": "stream",
     "text": [
      "Train - Loss: 0.3908 Acc: 0.8549\n"
     ]
    },
    {
     "name": "stderr",
     "output_type": "stream",
     "text": [
      "[Epoch 41]: 100%|██████████| 585/585 [03:00<00:00,  3.23it/s]\n",
      "[Epoch 42]:   0%|          | 0/585 [00:00<?, ?it/s]"
     ]
    },
    {
     "name": "stdout",
     "output_type": "stream",
     "text": [
      "Train - Loss: 0.3846 Acc: 0.8573\n"
     ]
    },
    {
     "name": "stderr",
     "output_type": "stream",
     "text": [
      "[Epoch 42]: 100%|██████████| 585/585 [03:00<00:00,  3.23it/s]\n",
      "[Epoch 43]:   0%|          | 0/585 [00:00<?, ?it/s]"
     ]
    },
    {
     "name": "stdout",
     "output_type": "stream",
     "text": [
      "Train - Loss: 0.3760 Acc: 0.8631\n"
     ]
    },
    {
     "name": "stderr",
     "output_type": "stream",
     "text": [
      "[Epoch 43]: 100%|██████████| 585/585 [03:00<00:00,  3.23it/s]\n",
      "[Epoch 44]:   0%|          | 0/585 [00:00<?, ?it/s]"
     ]
    },
    {
     "name": "stdout",
     "output_type": "stream",
     "text": [
      "Train - Loss: 0.3958 Acc: 0.8572\n"
     ]
    },
    {
     "name": "stderr",
     "output_type": "stream",
     "text": [
      "[Epoch 44]: 100%|██████████| 585/585 [03:00<00:00,  3.23it/s]\n",
      "[Epoch 45]:   0%|          | 0/585 [00:00<?, ?it/s]"
     ]
    },
    {
     "name": "stdout",
     "output_type": "stream",
     "text": [
      "Train - Loss: 0.3704 Acc: 0.8618\n"
     ]
    },
    {
     "name": "stderr",
     "output_type": "stream",
     "text": [
      "[Epoch 45]: 100%|██████████| 585/585 [03:00<00:00,  3.23it/s]\n",
      "[Epoch 46]:   0%|          | 0/585 [00:00<?, ?it/s]"
     ]
    },
    {
     "name": "stdout",
     "output_type": "stream",
     "text": [
      "Train - Loss: 0.3767 Acc: 0.8618\n"
     ]
    },
    {
     "name": "stderr",
     "output_type": "stream",
     "text": [
      "[Epoch 46]: 100%|██████████| 585/585 [03:00<00:00,  3.23it/s]\n",
      "[Epoch 47]:   0%|          | 0/585 [00:00<?, ?it/s]"
     ]
    },
    {
     "name": "stdout",
     "output_type": "stream",
     "text": [
      "Train - Loss: 0.3557 Acc: 0.8675\n"
     ]
    },
    {
     "name": "stderr",
     "output_type": "stream",
     "text": [
      "[Epoch 47]: 100%|██████████| 585/585 [03:00<00:00,  3.23it/s]\n",
      "[Epoch 48]:   0%|          | 0/585 [00:00<?, ?it/s]"
     ]
    },
    {
     "name": "stdout",
     "output_type": "stream",
     "text": [
      "Train - Loss: 0.3669 Acc: 0.8678\n"
     ]
    },
    {
     "name": "stderr",
     "output_type": "stream",
     "text": [
      "[Epoch 48]: 100%|██████████| 585/585 [03:00<00:00,  3.23it/s]\n",
      "[Epoch 49]:   0%|          | 0/585 [00:00<?, ?it/s]"
     ]
    },
    {
     "name": "stdout",
     "output_type": "stream",
     "text": [
      "Train - Loss: 0.3592 Acc: 0.8632\n"
     ]
    },
    {
     "name": "stderr",
     "output_type": "stream",
     "text": [
      "[Epoch 49]: 100%|██████████| 585/585 [03:00<00:00,  3.23it/s]\n",
      "[Epoch 50]:   0%|          | 0/585 [00:00<?, ?it/s]"
     ]
    },
    {
     "name": "stdout",
     "output_type": "stream",
     "text": [
      "Train - Loss: 0.3580 Acc: 0.8696\n"
     ]
    },
    {
     "name": "stderr",
     "output_type": "stream",
     "text": [
      "[Epoch 50]: 100%|██████████| 585/585 [03:01<00:00,  3.23it/s]\n",
      "[Epoch 51]:   0%|          | 0/585 [00:00<?, ?it/s]"
     ]
    },
    {
     "name": "stdout",
     "output_type": "stream",
     "text": [
      "Train - Loss: 0.3581 Acc: 0.8659\n"
     ]
    },
    {
     "name": "stderr",
     "output_type": "stream",
     "text": [
      "[Epoch 51]: 100%|██████████| 585/585 [03:00<00:00,  3.23it/s]\n",
      "[Epoch 52]:   0%|          | 0/585 [00:00<?, ?it/s]"
     ]
    },
    {
     "name": "stdout",
     "output_type": "stream",
     "text": [
      "Train - Loss: 0.3467 Acc: 0.8696\n"
     ]
    },
    {
     "name": "stderr",
     "output_type": "stream",
     "text": [
      "[Epoch 52]: 100%|██████████| 585/585 [03:00<00:00,  3.23it/s]\n",
      "[Epoch 53]:   0%|          | 0/585 [00:00<?, ?it/s]"
     ]
    },
    {
     "name": "stdout",
     "output_type": "stream",
     "text": [
      "Train - Loss: 0.3353 Acc: 0.8760\n"
     ]
    },
    {
     "name": "stderr",
     "output_type": "stream",
     "text": [
      "[Epoch 53]: 100%|██████████| 585/585 [03:00<00:00,  3.23it/s]\n",
      "[Epoch 54]:   0%|          | 0/585 [00:00<?, ?it/s]"
     ]
    },
    {
     "name": "stdout",
     "output_type": "stream",
     "text": [
      "Train - Loss: 0.3392 Acc: 0.8745\n"
     ]
    },
    {
     "name": "stderr",
     "output_type": "stream",
     "text": [
      "[Epoch 54]: 100%|██████████| 585/585 [03:01<00:00,  3.23it/s]\n",
      "[Epoch 55]:   0%|          | 0/585 [00:00<?, ?it/s]"
     ]
    },
    {
     "name": "stdout",
     "output_type": "stream",
     "text": [
      "Train - Loss: 0.3382 Acc: 0.8732\n"
     ]
    },
    {
     "name": "stderr",
     "output_type": "stream",
     "text": [
      "[Epoch 55]: 100%|██████████| 585/585 [03:00<00:00,  3.23it/s]\n",
      "[Epoch 56]:   0%|          | 0/585 [00:00<?, ?it/s]"
     ]
    },
    {
     "name": "stdout",
     "output_type": "stream",
     "text": [
      "Train - Loss: 0.3371 Acc: 0.8752\n"
     ]
    },
    {
     "name": "stderr",
     "output_type": "stream",
     "text": [
      "[Epoch 56]: 100%|██████████| 585/585 [03:00<00:00,  3.23it/s]\n",
      "[Epoch 57]:   0%|          | 0/585 [00:00<?, ?it/s]"
     ]
    },
    {
     "name": "stdout",
     "output_type": "stream",
     "text": [
      "Train - Loss: 0.3254 Acc: 0.8795\n"
     ]
    },
    {
     "name": "stderr",
     "output_type": "stream",
     "text": [
      "[Epoch 57]: 100%|██████████| 585/585 [03:01<00:00,  3.23it/s]\n",
      "[Epoch 58]:   0%|          | 0/585 [00:00<?, ?it/s]"
     ]
    },
    {
     "name": "stdout",
     "output_type": "stream",
     "text": [
      "Train - Loss: 0.3215 Acc: 0.8780\n"
     ]
    },
    {
     "name": "stderr",
     "output_type": "stream",
     "text": [
      "[Epoch 58]: 100%|██████████| 585/585 [03:01<00:00,  3.23it/s]\n",
      "[Epoch 59]:   0%|          | 0/585 [00:00<?, ?it/s]"
     ]
    },
    {
     "name": "stdout",
     "output_type": "stream",
     "text": [
      "Train - Loss: 0.3236 Acc: 0.8803\n"
     ]
    },
    {
     "name": "stderr",
     "output_type": "stream",
     "text": [
      "[Epoch 59]: 100%|██████████| 585/585 [03:00<00:00,  3.23it/s]\n",
      "[Epoch 60]:   0%|          | 0/585 [00:00<?, ?it/s]"
     ]
    },
    {
     "name": "stdout",
     "output_type": "stream",
     "text": [
      "Train - Loss: 0.3195 Acc: 0.8826\n"
     ]
    },
    {
     "name": "stderr",
     "output_type": "stream",
     "text": [
      "[Epoch 60]: 100%|██████████| 585/585 [03:00<00:00,  3.23it/s]\n",
      "[Epoch 61]:   0%|          | 0/585 [00:00<?, ?it/s]"
     ]
    },
    {
     "name": "stdout",
     "output_type": "stream",
     "text": [
      "Train - Loss: 0.3112 Acc: 0.8850\n"
     ]
    },
    {
     "name": "stderr",
     "output_type": "stream",
     "text": [
      "[Epoch 61]: 100%|██████████| 585/585 [03:00<00:00,  3.23it/s]\n",
      "[Epoch 62]:   0%|          | 0/585 [00:00<?, ?it/s]"
     ]
    },
    {
     "name": "stdout",
     "output_type": "stream",
     "text": [
      "Train - Loss: 0.3143 Acc: 0.8810\n"
     ]
    },
    {
     "name": "stderr",
     "output_type": "stream",
     "text": [
      "[Epoch 62]: 100%|██████████| 585/585 [03:00<00:00,  3.23it/s]\n",
      "[Epoch 63]:   0%|          | 0/585 [00:00<?, ?it/s]"
     ]
    },
    {
     "name": "stdout",
     "output_type": "stream",
     "text": [
      "Train - Loss: 0.3076 Acc: 0.8842\n"
     ]
    },
    {
     "name": "stderr",
     "output_type": "stream",
     "text": [
      "[Epoch 63]: 100%|██████████| 585/585 [03:00<00:00,  3.23it/s]\n",
      "[Epoch 64]:   0%|          | 0/585 [00:00<?, ?it/s]"
     ]
    },
    {
     "name": "stdout",
     "output_type": "stream",
     "text": [
      "Train - Loss: 0.3065 Acc: 0.8860\n"
     ]
    },
    {
     "name": "stderr",
     "output_type": "stream",
     "text": [
      "[Epoch 64]: 100%|██████████| 585/585 [03:00<00:00,  3.23it/s]\n",
      "[Epoch 65]:   0%|          | 0/585 [00:00<?, ?it/s]"
     ]
    },
    {
     "name": "stdout",
     "output_type": "stream",
     "text": [
      "Train - Loss: 0.2913 Acc: 0.8937\n"
     ]
    },
    {
     "name": "stderr",
     "output_type": "stream",
     "text": [
      "[Epoch 65]: 100%|██████████| 585/585 [03:00<00:00,  3.23it/s]\n",
      "[Epoch 66]:   0%|          | 0/585 [00:00<?, ?it/s]"
     ]
    },
    {
     "name": "stdout",
     "output_type": "stream",
     "text": [
      "Train - Loss: 0.2919 Acc: 0.8924\n"
     ]
    },
    {
     "name": "stderr",
     "output_type": "stream",
     "text": [
      "[Epoch 66]: 100%|██████████| 585/585 [03:00<00:00,  3.23it/s]\n",
      "[Epoch 67]:   0%|          | 0/585 [00:00<?, ?it/s]"
     ]
    },
    {
     "name": "stdout",
     "output_type": "stream",
     "text": [
      "Train - Loss: 0.2930 Acc: 0.8854\n"
     ]
    },
    {
     "name": "stderr",
     "output_type": "stream",
     "text": [
      "[Epoch 67]: 100%|██████████| 585/585 [03:00<00:00,  3.23it/s]\n",
      "[Epoch 68]:   0%|          | 0/585 [00:00<?, ?it/s]"
     ]
    },
    {
     "name": "stdout",
     "output_type": "stream",
     "text": [
      "Train - Loss: 0.2930 Acc: 0.8926\n"
     ]
    },
    {
     "name": "stderr",
     "output_type": "stream",
     "text": [
      "[Epoch 68]: 100%|██████████| 585/585 [03:00<00:00,  3.23it/s]\n",
      "[Epoch 69]:   0%|          | 0/585 [00:00<?, ?it/s]"
     ]
    },
    {
     "name": "stdout",
     "output_type": "stream",
     "text": [
      "Train - Loss: 0.2815 Acc: 0.8959\n"
     ]
    },
    {
     "name": "stderr",
     "output_type": "stream",
     "text": [
      "[Epoch 69]: 100%|██████████| 585/585 [03:00<00:00,  3.23it/s]\n",
      "[Epoch 70]:   0%|          | 0/585 [00:00<?, ?it/s]"
     ]
    },
    {
     "name": "stdout",
     "output_type": "stream",
     "text": [
      "Train - Loss: 0.2840 Acc: 0.8919\n"
     ]
    },
    {
     "name": "stderr",
     "output_type": "stream",
     "text": [
      "[Epoch 70]: 100%|██████████| 585/585 [03:00<00:00,  3.23it/s]\n",
      "[Epoch 71]:   0%|          | 0/585 [00:00<?, ?it/s]"
     ]
    },
    {
     "name": "stdout",
     "output_type": "stream",
     "text": [
      "Train - Loss: 0.2833 Acc: 0.8940\n"
     ]
    },
    {
     "name": "stderr",
     "output_type": "stream",
     "text": [
      "[Epoch 71]: 100%|██████████| 585/585 [03:00<00:00,  3.23it/s]\n",
      "[Epoch 72]:   0%|          | 0/585 [00:00<?, ?it/s]"
     ]
    },
    {
     "name": "stdout",
     "output_type": "stream",
     "text": [
      "Train - Loss: 0.2797 Acc: 0.8942\n"
     ]
    },
    {
     "name": "stderr",
     "output_type": "stream",
     "text": [
      "[Epoch 72]: 100%|██████████| 585/585 [03:00<00:00,  3.23it/s]\n",
      "[Epoch 73]:   0%|          | 0/585 [00:00<?, ?it/s]"
     ]
    },
    {
     "name": "stdout",
     "output_type": "stream",
     "text": [
      "Train - Loss: 0.2807 Acc: 0.8937\n"
     ]
    },
    {
     "name": "stderr",
     "output_type": "stream",
     "text": [
      "[Epoch 73]: 100%|██████████| 585/585 [03:00<00:00,  3.23it/s]\n",
      "[Epoch 74]:   0%|          | 0/585 [00:00<?, ?it/s]"
     ]
    },
    {
     "name": "stdout",
     "output_type": "stream",
     "text": [
      "Train - Loss: 0.2776 Acc: 0.8984\n"
     ]
    },
    {
     "name": "stderr",
     "output_type": "stream",
     "text": [
      "[Epoch 74]: 100%|██████████| 585/585 [03:00<00:00,  3.23it/s]\n",
      "[Epoch 75]:   0%|          | 0/585 [00:00<?, ?it/s]"
     ]
    },
    {
     "name": "stdout",
     "output_type": "stream",
     "text": [
      "Train - Loss: 0.2715 Acc: 0.9001\n"
     ]
    },
    {
     "name": "stderr",
     "output_type": "stream",
     "text": [
      "[Epoch 75]: 100%|██████████| 585/585 [03:00<00:00,  3.23it/s]\n",
      "[Epoch 76]:   0%|          | 0/585 [00:00<?, ?it/s]"
     ]
    },
    {
     "name": "stdout",
     "output_type": "stream",
     "text": [
      "Train - Loss: 0.2646 Acc: 0.8981\n"
     ]
    },
    {
     "name": "stderr",
     "output_type": "stream",
     "text": [
      "[Epoch 76]: 100%|██████████| 585/585 [03:00<00:00,  3.23it/s]\n",
      "[Epoch 77]:   0%|          | 0/585 [00:00<?, ?it/s]"
     ]
    },
    {
     "name": "stdout",
     "output_type": "stream",
     "text": [
      "Train - Loss: 0.2588 Acc: 0.8990\n"
     ]
    },
    {
     "name": "stderr",
     "output_type": "stream",
     "text": [
      "[Epoch 77]: 100%|██████████| 585/585 [03:00<00:00,  3.24it/s]\n",
      "[Epoch 78]:   0%|          | 0/585 [00:00<?, ?it/s]"
     ]
    },
    {
     "name": "stdout",
     "output_type": "stream",
     "text": [
      "Train - Loss: 0.2605 Acc: 0.9027\n"
     ]
    },
    {
     "name": "stderr",
     "output_type": "stream",
     "text": [
      "[Epoch 78]: 100%|██████████| 585/585 [03:00<00:00,  3.23it/s]\n",
      "[Epoch 79]:   0%|          | 0/585 [00:00<?, ?it/s]"
     ]
    },
    {
     "name": "stdout",
     "output_type": "stream",
     "text": [
      "Train - Loss: 0.2525 Acc: 0.9066\n"
     ]
    },
    {
     "name": "stderr",
     "output_type": "stream",
     "text": [
      "[Epoch 79]: 100%|██████████| 585/585 [03:00<00:00,  3.23it/s]\n",
      "[Epoch 80]:   0%|          | 0/585 [00:00<?, ?it/s]"
     ]
    },
    {
     "name": "stdout",
     "output_type": "stream",
     "text": [
      "Train - Loss: 0.2529 Acc: 0.9076\n"
     ]
    },
    {
     "name": "stderr",
     "output_type": "stream",
     "text": [
      "[Epoch 80]: 100%|██████████| 585/585 [03:00<00:00,  3.23it/s]\n",
      "[Epoch 81]:   0%|          | 0/585 [00:00<?, ?it/s]"
     ]
    },
    {
     "name": "stdout",
     "output_type": "stream",
     "text": [
      "Train - Loss: 0.2542 Acc: 0.9051\n"
     ]
    },
    {
     "name": "stderr",
     "output_type": "stream",
     "text": [
      "[Epoch 81]: 100%|██████████| 585/585 [03:00<00:00,  3.23it/s]\n",
      "[Epoch 82]:   0%|          | 0/585 [00:00<?, ?it/s]"
     ]
    },
    {
     "name": "stdout",
     "output_type": "stream",
     "text": [
      "Train - Loss: 0.2474 Acc: 0.9146\n"
     ]
    },
    {
     "name": "stderr",
     "output_type": "stream",
     "text": [
      "[Epoch 82]: 100%|██████████| 585/585 [03:00<00:00,  3.23it/s]\n",
      "[Epoch 83]:   0%|          | 0/585 [00:00<?, ?it/s]"
     ]
    },
    {
     "name": "stdout",
     "output_type": "stream",
     "text": [
      "Train - Loss: 0.2413 Acc: 0.9077\n"
     ]
    },
    {
     "name": "stderr",
     "output_type": "stream",
     "text": [
      "[Epoch 83]: 100%|██████████| 585/585 [03:00<00:00,  3.23it/s]\n",
      "[Epoch 84]:   0%|          | 0/585 [00:00<?, ?it/s]"
     ]
    },
    {
     "name": "stdout",
     "output_type": "stream",
     "text": [
      "Train - Loss: 0.2406 Acc: 0.9108\n"
     ]
    },
    {
     "name": "stderr",
     "output_type": "stream",
     "text": [
      "[Epoch 84]: 100%|██████████| 585/585 [03:00<00:00,  3.23it/s]\n",
      "[Epoch 85]:   0%|          | 0/585 [00:00<?, ?it/s]"
     ]
    },
    {
     "name": "stdout",
     "output_type": "stream",
     "text": [
      "Train - Loss: 0.2294 Acc: 0.9146\n"
     ]
    },
    {
     "name": "stderr",
     "output_type": "stream",
     "text": [
      "[Epoch 85]: 100%|██████████| 585/585 [03:00<00:00,  3.23it/s]\n",
      "[Epoch 86]:   0%|          | 0/585 [00:00<?, ?it/s]"
     ]
    },
    {
     "name": "stdout",
     "output_type": "stream",
     "text": [
      "Train - Loss: 0.2304 Acc: 0.9133\n"
     ]
    },
    {
     "name": "stderr",
     "output_type": "stream",
     "text": [
      "[Epoch 86]: 100%|██████████| 585/585 [03:00<00:00,  3.23it/s]\n",
      "[Epoch 87]:   0%|          | 0/585 [00:00<?, ?it/s]"
     ]
    },
    {
     "name": "stdout",
     "output_type": "stream",
     "text": [
      "Train - Loss: 0.2291 Acc: 0.9137\n"
     ]
    },
    {
     "name": "stderr",
     "output_type": "stream",
     "text": [
      "[Epoch 87]: 100%|██████████| 585/585 [03:00<00:00,  3.23it/s]\n",
      "[Epoch 88]:   0%|          | 0/585 [00:00<?, ?it/s]"
     ]
    },
    {
     "name": "stdout",
     "output_type": "stream",
     "text": [
      "Train - Loss: 0.2322 Acc: 0.9107\n"
     ]
    },
    {
     "name": "stderr",
     "output_type": "stream",
     "text": [
      "[Epoch 88]: 100%|██████████| 585/585 [03:00<00:00,  3.23it/s]\n",
      "[Epoch 89]:   0%|          | 0/585 [00:00<?, ?it/s]"
     ]
    },
    {
     "name": "stdout",
     "output_type": "stream",
     "text": [
      "Train - Loss: 0.2249 Acc: 0.9154\n"
     ]
    },
    {
     "name": "stderr",
     "output_type": "stream",
     "text": [
      "[Epoch 89]: 100%|██████████| 585/585 [03:00<00:00,  3.23it/s]\n",
      "[Epoch 90]:   0%|          | 0/585 [00:00<?, ?it/s]"
     ]
    },
    {
     "name": "stdout",
     "output_type": "stream",
     "text": [
      "Train - Loss: 0.2322 Acc: 0.9113\n"
     ]
    },
    {
     "name": "stderr",
     "output_type": "stream",
     "text": [
      "[Epoch 90]: 100%|██████████| 585/585 [03:01<00:00,  3.23it/s]\n",
      "[Epoch 91]:   0%|          | 0/585 [00:00<?, ?it/s]"
     ]
    },
    {
     "name": "stdout",
     "output_type": "stream",
     "text": [
      "Train - Loss: 0.2185 Acc: 0.9158\n"
     ]
    },
    {
     "name": "stderr",
     "output_type": "stream",
     "text": [
      "[Epoch 91]: 100%|██████████| 585/585 [03:00<00:00,  3.23it/s]\n",
      "[Epoch 92]:   0%|          | 0/585 [00:00<?, ?it/s]"
     ]
    },
    {
     "name": "stdout",
     "output_type": "stream",
     "text": [
      "Train - Loss: 0.2259 Acc: 0.9146\n"
     ]
    },
    {
     "name": "stderr",
     "output_type": "stream",
     "text": [
      "[Epoch 92]: 100%|██████████| 585/585 [03:00<00:00,  3.23it/s]\n",
      "[Epoch 93]:   0%|          | 0/585 [00:00<?, ?it/s]"
     ]
    },
    {
     "name": "stdout",
     "output_type": "stream",
     "text": [
      "Train - Loss: 0.2155 Acc: 0.9191\n"
     ]
    },
    {
     "name": "stderr",
     "output_type": "stream",
     "text": [
      "[Epoch 93]: 100%|██████████| 585/585 [03:00<00:00,  3.23it/s]\n",
      "[Epoch 94]:   0%|          | 0/585 [00:00<?, ?it/s]"
     ]
    },
    {
     "name": "stdout",
     "output_type": "stream",
     "text": [
      "Train - Loss: 0.2196 Acc: 0.9164\n"
     ]
    },
    {
     "name": "stderr",
     "output_type": "stream",
     "text": [
      "[Epoch 94]: 100%|██████████| 585/585 [03:01<00:00,  3.23it/s]\n",
      "[Epoch 95]:   0%|          | 0/585 [00:00<?, ?it/s]"
     ]
    },
    {
     "name": "stdout",
     "output_type": "stream",
     "text": [
      "Train - Loss: 0.2104 Acc: 0.9214\n"
     ]
    },
    {
     "name": "stderr",
     "output_type": "stream",
     "text": [
      "[Epoch 95]: 100%|██████████| 585/585 [03:01<00:00,  3.23it/s]\n",
      "[Epoch 96]:   0%|          | 0/585 [00:00<?, ?it/s]"
     ]
    },
    {
     "name": "stdout",
     "output_type": "stream",
     "text": [
      "Train - Loss: 0.2098 Acc: 0.9177\n"
     ]
    },
    {
     "name": "stderr",
     "output_type": "stream",
     "text": [
      "[Epoch 96]: 100%|██████████| 585/585 [03:01<00:00,  3.23it/s]\n",
      "[Epoch 97]:   0%|          | 0/585 [00:00<?, ?it/s]"
     ]
    },
    {
     "name": "stdout",
     "output_type": "stream",
     "text": [
      "Train - Loss: 0.2041 Acc: 0.9247\n"
     ]
    },
    {
     "name": "stderr",
     "output_type": "stream",
     "text": [
      "[Epoch 97]: 100%|██████████| 585/585 [03:01<00:00,  3.23it/s]\n",
      "[Epoch 98]:   0%|          | 0/585 [00:00<?, ?it/s]"
     ]
    },
    {
     "name": "stdout",
     "output_type": "stream",
     "text": [
      "Train - Loss: 0.2021 Acc: 0.9218\n"
     ]
    },
    {
     "name": "stderr",
     "output_type": "stream",
     "text": [
      "[Epoch 98]: 100%|██████████| 585/585 [03:00<00:00,  3.23it/s]\n",
      "[Epoch 99]:   0%|          | 0/585 [00:00<?, ?it/s]"
     ]
    },
    {
     "name": "stdout",
     "output_type": "stream",
     "text": [
      "Train - Loss: 0.2008 Acc: 0.9218\n"
     ]
    },
    {
     "name": "stderr",
     "output_type": "stream",
     "text": [
      "[Epoch 99]: 100%|██████████| 585/585 [03:00<00:00,  3.23it/s]\n",
      "[Epoch 100]:   0%|          | 0/585 [00:00<?, ?it/s]"
     ]
    },
    {
     "name": "stdout",
     "output_type": "stream",
     "text": [
      "Train - Loss: 0.2047 Acc: 0.9240\n"
     ]
    },
    {
     "name": "stderr",
     "output_type": "stream",
     "text": [
      "[Epoch 100]: 100%|██████████| 585/585 [03:01<00:00,  3.23it/s]\n",
      "[Epoch 101]:   0%|          | 0/585 [00:00<?, ?it/s]"
     ]
    },
    {
     "name": "stdout",
     "output_type": "stream",
     "text": [
      "Train - Loss: 0.1995 Acc: 0.9248\n"
     ]
    },
    {
     "name": "stderr",
     "output_type": "stream",
     "text": [
      "[Epoch 101]: 100%|██████████| 585/585 [03:00<00:00,  3.24it/s]\n",
      "[Epoch 102]:   0%|          | 0/585 [00:00<?, ?it/s]"
     ]
    },
    {
     "name": "stdout",
     "output_type": "stream",
     "text": [
      "Train - Loss: 0.1981 Acc: 0.9257\n"
     ]
    },
    {
     "name": "stderr",
     "output_type": "stream",
     "text": [
      "[Epoch 102]: 100%|██████████| 585/585 [03:00<00:00,  3.23it/s]\n",
      "[Epoch 103]:   0%|          | 0/585 [00:00<?, ?it/s]"
     ]
    },
    {
     "name": "stdout",
     "output_type": "stream",
     "text": [
      "Train - Loss: 0.1900 Acc: 0.9292\n"
     ]
    },
    {
     "name": "stderr",
     "output_type": "stream",
     "text": [
      "[Epoch 103]: 100%|██████████| 585/585 [03:01<00:00,  3.23it/s]\n",
      "[Epoch 104]:   0%|          | 0/585 [00:00<?, ?it/s]"
     ]
    },
    {
     "name": "stdout",
     "output_type": "stream",
     "text": [
      "Train - Loss: 0.1860 Acc: 0.9274\n"
     ]
    },
    {
     "name": "stderr",
     "output_type": "stream",
     "text": [
      "[Epoch 104]: 100%|██████████| 585/585 [03:00<00:00,  3.23it/s]\n",
      "[Epoch 105]:   0%|          | 0/585 [00:00<?, ?it/s]"
     ]
    },
    {
     "name": "stdout",
     "output_type": "stream",
     "text": [
      "Train - Loss: 0.1850 Acc: 0.9328\n"
     ]
    },
    {
     "name": "stderr",
     "output_type": "stream",
     "text": [
      "[Epoch 105]: 100%|██████████| 585/585 [03:01<00:00,  3.23it/s]\n",
      "[Epoch 106]:   0%|          | 0/585 [00:00<?, ?it/s]"
     ]
    },
    {
     "name": "stdout",
     "output_type": "stream",
     "text": [
      "Train - Loss: 0.1950 Acc: 0.9265\n"
     ]
    },
    {
     "name": "stderr",
     "output_type": "stream",
     "text": [
      "[Epoch 106]: 100%|██████████| 585/585 [03:01<00:00,  3.23it/s]\n",
      "[Epoch 107]:   0%|          | 0/585 [00:00<?, ?it/s]"
     ]
    },
    {
     "name": "stdout",
     "output_type": "stream",
     "text": [
      "Train - Loss: 0.1838 Acc: 0.9321\n"
     ]
    },
    {
     "name": "stderr",
     "output_type": "stream",
     "text": [
      "[Epoch 107]: 100%|██████████| 585/585 [03:01<00:00,  3.23it/s]\n",
      "[Epoch 108]:   0%|          | 0/585 [00:00<?, ?it/s]"
     ]
    },
    {
     "name": "stdout",
     "output_type": "stream",
     "text": [
      "Train - Loss: 0.1789 Acc: 0.9357\n"
     ]
    },
    {
     "name": "stderr",
     "output_type": "stream",
     "text": [
      "[Epoch 108]: 100%|██████████| 585/585 [03:00<00:00,  3.23it/s]\n",
      "[Epoch 109]:   0%|          | 0/585 [00:00<?, ?it/s]"
     ]
    },
    {
     "name": "stdout",
     "output_type": "stream",
     "text": [
      "Train - Loss: 0.1794 Acc: 0.9317\n"
     ]
    },
    {
     "name": "stderr",
     "output_type": "stream",
     "text": [
      "[Epoch 109]: 100%|██████████| 585/585 [03:01<00:00,  3.23it/s]\n",
      "[Epoch 110]:   0%|          | 0/585 [00:00<?, ?it/s]"
     ]
    },
    {
     "name": "stdout",
     "output_type": "stream",
     "text": [
      "Train - Loss: 0.1834 Acc: 0.9298\n"
     ]
    },
    {
     "name": "stderr",
     "output_type": "stream",
     "text": [
      "[Epoch 110]: 100%|██████████| 585/585 [03:01<00:00,  3.23it/s]\n",
      "[Epoch 111]:   0%|          | 0/585 [00:00<?, ?it/s]"
     ]
    },
    {
     "name": "stdout",
     "output_type": "stream",
     "text": [
      "Train - Loss: 0.1711 Acc: 0.9355\n"
     ]
    },
    {
     "name": "stderr",
     "output_type": "stream",
     "text": [
      "[Epoch 111]: 100%|██████████| 585/585 [03:00<00:00,  3.23it/s]\n",
      "[Epoch 112]:   0%|          | 0/585 [00:00<?, ?it/s]"
     ]
    },
    {
     "name": "stdout",
     "output_type": "stream",
     "text": [
      "Train - Loss: 0.1844 Acc: 0.9284\n"
     ]
    },
    {
     "name": "stderr",
     "output_type": "stream",
     "text": [
      "[Epoch 112]: 100%|██████████| 585/585 [03:00<00:00,  3.23it/s]\n",
      "[Epoch 113]:   0%|          | 0/585 [00:00<?, ?it/s]"
     ]
    },
    {
     "name": "stdout",
     "output_type": "stream",
     "text": [
      "Train - Loss: 0.1654 Acc: 0.9382\n"
     ]
    },
    {
     "name": "stderr",
     "output_type": "stream",
     "text": [
      "[Epoch 113]: 100%|██████████| 585/585 [03:01<00:00,  3.23it/s]\n",
      "[Epoch 114]:   0%|          | 0/585 [00:00<?, ?it/s]"
     ]
    },
    {
     "name": "stdout",
     "output_type": "stream",
     "text": [
      "Train - Loss: 0.1754 Acc: 0.9345\n"
     ]
    },
    {
     "name": "stderr",
     "output_type": "stream",
     "text": [
      "[Epoch 114]: 100%|██████████| 585/585 [03:01<00:00,  3.23it/s]\n",
      "[Epoch 115]:   0%|          | 0/585 [00:00<?, ?it/s]"
     ]
    },
    {
     "name": "stdout",
     "output_type": "stream",
     "text": [
      "Train - Loss: 0.1646 Acc: 0.9407\n"
     ]
    },
    {
     "name": "stderr",
     "output_type": "stream",
     "text": [
      "[Epoch 115]: 100%|██████████| 585/585 [03:01<00:00,  3.23it/s]\n",
      "[Epoch 116]:   0%|          | 0/585 [00:00<?, ?it/s]"
     ]
    },
    {
     "name": "stdout",
     "output_type": "stream",
     "text": [
      "Train - Loss: 0.1675 Acc: 0.9391\n"
     ]
    },
    {
     "name": "stderr",
     "output_type": "stream",
     "text": [
      "[Epoch 116]: 100%|██████████| 585/585 [03:01<00:00,  3.23it/s]\n",
      "[Epoch 117]:   0%|          | 0/585 [00:00<?, ?it/s]"
     ]
    },
    {
     "name": "stdout",
     "output_type": "stream",
     "text": [
      "Train - Loss: 0.1694 Acc: 0.9350\n"
     ]
    },
    {
     "name": "stderr",
     "output_type": "stream",
     "text": [
      "[Epoch 117]: 100%|██████████| 585/585 [03:00<00:00,  3.23it/s]\n",
      "[Epoch 118]:   0%|          | 0/585 [00:00<?, ?it/s]"
     ]
    },
    {
     "name": "stdout",
     "output_type": "stream",
     "text": [
      "Train - Loss: 0.1615 Acc: 0.9412\n"
     ]
    },
    {
     "name": "stderr",
     "output_type": "stream",
     "text": [
      "[Epoch 118]: 100%|██████████| 585/585 [03:00<00:00,  3.23it/s]\n",
      "[Epoch 119]:   0%|          | 0/585 [00:00<?, ?it/s]"
     ]
    },
    {
     "name": "stdout",
     "output_type": "stream",
     "text": [
      "Train - Loss: 0.1579 Acc: 0.9412\n"
     ]
    },
    {
     "name": "stderr",
     "output_type": "stream",
     "text": [
      "[Epoch 119]: 100%|██████████| 585/585 [03:00<00:00,  3.23it/s]\n",
      "[Epoch 120]:   0%|          | 0/585 [00:00<?, ?it/s]"
     ]
    },
    {
     "name": "stdout",
     "output_type": "stream",
     "text": [
      "Train - Loss: 0.1562 Acc: 0.9385\n"
     ]
    },
    {
     "name": "stderr",
     "output_type": "stream",
     "text": [
      "[Epoch 120]: 100%|██████████| 585/585 [03:00<00:00,  3.23it/s]\n",
      "[Epoch 121]:   0%|          | 0/585 [00:00<?, ?it/s]"
     ]
    },
    {
     "name": "stdout",
     "output_type": "stream",
     "text": [
      "Train - Loss: 0.1537 Acc: 0.9434\n"
     ]
    },
    {
     "name": "stderr",
     "output_type": "stream",
     "text": [
      "[Epoch 121]: 100%|██████████| 585/585 [03:00<00:00,  3.23it/s]\n",
      "[Epoch 122]:   0%|          | 0/585 [00:00<?, ?it/s]"
     ]
    },
    {
     "name": "stdout",
     "output_type": "stream",
     "text": [
      "Train - Loss: 0.1508 Acc: 0.9451\n"
     ]
    },
    {
     "name": "stderr",
     "output_type": "stream",
     "text": [
      "[Epoch 122]: 100%|██████████| 585/585 [03:00<00:00,  3.23it/s]\n",
      "[Epoch 123]:   0%|          | 0/585 [00:00<?, ?it/s]"
     ]
    },
    {
     "name": "stdout",
     "output_type": "stream",
     "text": [
      "Train - Loss: 0.1457 Acc: 0.9472\n"
     ]
    },
    {
     "name": "stderr",
     "output_type": "stream",
     "text": [
      "[Epoch 123]: 100%|██████████| 585/585 [03:01<00:00,  3.23it/s]\n",
      "[Epoch 124]:   0%|          | 0/585 [00:00<?, ?it/s]"
     ]
    },
    {
     "name": "stdout",
     "output_type": "stream",
     "text": [
      "Train - Loss: 0.1459 Acc: 0.9454\n"
     ]
    },
    {
     "name": "stderr",
     "output_type": "stream",
     "text": [
      "[Epoch 124]: 100%|██████████| 585/585 [03:01<00:00,  3.23it/s]\n",
      "[Epoch 125]:   0%|          | 0/585 [00:00<?, ?it/s]"
     ]
    },
    {
     "name": "stdout",
     "output_type": "stream",
     "text": [
      "Train - Loss: 0.1523 Acc: 0.9442\n"
     ]
    },
    {
     "name": "stderr",
     "output_type": "stream",
     "text": [
      "[Epoch 125]:  15%|█▌        | 88/585 [00:27<02:34,  3.22it/s]Process Process-125:\n",
      "Traceback (most recent call last):\n",
      "  File \"/home/paperspace/anaconda3/envs/fastai/lib/python3.6/multiprocessing/process.py\", line 258, in _bootstrap\n",
      "    self.run()\n",
      "  File \"/home/paperspace/anaconda3/envs/fastai/lib/python3.6/multiprocessing/process.py\", line 93, in run\n",
      "    self._target(*self._args, **self._kwargs)\n",
      "  File \"/home/paperspace/anaconda3/envs/fastai/lib/python3.6/site-packages/torch/utils/data/dataloader.py\", line 106, in _worker_loop\n",
      "    samples = collate_fn([dataset[i] for i in batch_indices])\n",
      "  File \"/home/paperspace/anaconda3/envs/fastai/lib/python3.6/site-packages/torch/utils/data/dataloader.py\", line 106, in <listcomp>\n",
      "    samples = collate_fn([dataset[i] for i in batch_indices])\n",
      "  File \"/home/paperspace/anaconda3/envs/fastai/lib/python3.6/site-packages/torch/utils/data/dataset.py\", line 103, in __getitem__\n",
      "    return self.dataset[self.indices[idx]]\n",
      "  File \"/home/paperspace/projects/skin_cancer/Skin_Cancer_Detection/vgg_pretrained.py\", line 86, in __getitem__\n",
      "    label = self.labels.loc[self.labels['image_id'] == image_name, 'label']\n",
      "  File \"/home/paperspace/anaconda3/envs/fastai/lib/python3.6/site-packages/pandas/core/ops.py\", line 879, in wrapper\n",
      "    res = na_op(values, other)\n",
      "  File \"/home/paperspace/anaconda3/envs/fastai/lib/python3.6/site-packages/pandas/core/ops.py\", line 783, in na_op\n",
      "    result = _comp_method_OBJECT_ARRAY(op, x, y)\n",
      "  File \"/home/paperspace/anaconda3/envs/fastai/lib/python3.6/site-packages/pandas/core/ops.py\", line 763, in _comp_method_OBJECT_ARRAY\n",
      "    result = lib.scalar_compare(x, y, op)\n",
      "KeyboardInterrupt\n",
      "Exception ignored in: <bound method _DataLoaderIter.__del__ of <torch.utils.data.dataloader._DataLoaderIter object at 0x7f27f57fad68>>\n",
      "Traceback (most recent call last):\n",
      "  File \"/home/paperspace/anaconda3/envs/fastai/lib/python3.6/site-packages/torch/utils/data/dataloader.py\", line 397, in __del__\n",
      "    def __del__(self):\n",
      "  File \"/home/paperspace/anaconda3/envs/fastai/lib/python3.6/site-packages/torch/utils/data/dataloader.py\", line 227, in handler\n",
      "    _error_if_any_worker_fails()\n",
      "RuntimeError: DataLoader worker (pid 20329) exited unexpectedly with exit code 1. Details are lost due to multiprocessing. Rerunning with num_workers=0 may give better error trace.\n"
     ]
    },
    {
     "ename": "KeyboardInterrupt",
     "evalue": "",
     "output_type": "error",
     "traceback": [
      "\u001b[0;31m---------------------------------------------------------------------------\u001b[0m",
      "\u001b[0;31mKeyboardInterrupt\u001b[0m                         Traceback (most recent call last)",
      "\u001b[0;32m<ipython-input-3-2f7f3b3b5c43>\u001b[0m in \u001b[0;36m<module>\u001b[0;34m()\u001b[0m\n\u001b[1;32m      3\u001b[0m                                         \u001b[0mnum_class\u001b[0m \u001b[0;34m=\u001b[0m \u001b[0mnum_class\u001b[0m\u001b[0;34m,\u001b[0m \u001b[0mnum_workers\u001b[0m \u001b[0;34m=\u001b[0m \u001b[0mnum_workers\u001b[0m\u001b[0;34m,\u001b[0m\u001b[0;34m\u001b[0m\u001b[0m\n\u001b[1;32m      4\u001b[0m                                         \u001b[0muse_cuda\u001b[0m \u001b[0;34m=\u001b[0m \u001b[0mcuda\u001b[0m\u001b[0;34m,\u001b[0m \u001b[0mconti\u001b[0m \u001b[0;34m=\u001b[0m \u001b[0mconti\u001b[0m\u001b[0;34m,\u001b[0m \u001b[0mlr\u001b[0m \u001b[0;34m=\u001b[0m \u001b[0mlr\u001b[0m\u001b[0;34m,\u001b[0m\u001b[0;34m\u001b[0m\u001b[0m\n\u001b[0;32m----> 5\u001b[0;31m                                         final_save = final_save, name = name, save_freq = save_freq)\n\u001b[0m",
      "\u001b[0;32m~/projects/skin_cancer/Skin_Cancer_Detection/vgg_pretrained.py\u001b[0m in \u001b[0;36mtrain\u001b[0;34m(data_dir, label_dir, save_dir, epoch, mb, num_class, num_workers, use_cuda, conti, lr, final_save, save_freq, name, train_prop)\u001b[0m\n\u001b[1;32m    190\u001b[0m                         \u001b[0mloss\u001b[0m \u001b[0;34m=\u001b[0m \u001b[0mloss_fun\u001b[0m\u001b[0;34m(\u001b[0m\u001b[0moutput\u001b[0m\u001b[0;34m,\u001b[0m \u001b[0mlabels\u001b[0m\u001b[0;34m)\u001b[0m\u001b[0;34m\u001b[0m\u001b[0m\n\u001b[1;32m    191\u001b[0m                         \u001b[0mrunning_loss\u001b[0m \u001b[0;34m+=\u001b[0m \u001b[0mloss\u001b[0m\u001b[0;34m\u001b[0m\u001b[0m\n\u001b[0;32m--> 192\u001b[0;31m                         \u001b[0mrunning_corrects\u001b[0m \u001b[0;34m+=\u001b[0m \u001b[0mpreds\u001b[0m\u001b[0;34m.\u001b[0m\u001b[0meq\u001b[0m\u001b[0;34m(\u001b[0m\u001b[0mlabels\u001b[0m\u001b[0;34m.\u001b[0m\u001b[0mview_as\u001b[0m\u001b[0;34m(\u001b[0m\u001b[0mpreds\u001b[0m\u001b[0;34m)\u001b[0m\u001b[0;34m)\u001b[0m\u001b[0;34m.\u001b[0m\u001b[0msum\u001b[0m\u001b[0;34m(\u001b[0m\u001b[0;34m)\u001b[0m\u001b[0;34m\u001b[0m\u001b[0m\n\u001b[0m\u001b[1;32m    193\u001b[0m                         \u001b[0moptim\u001b[0m\u001b[0;34m.\u001b[0m\u001b[0mzero_grad\u001b[0m\u001b[0;34m(\u001b[0m\u001b[0;34m)\u001b[0m\u001b[0;34m\u001b[0m\u001b[0m\n\u001b[1;32m    194\u001b[0m                         \u001b[0mloss\u001b[0m\u001b[0;34m.\u001b[0m\u001b[0mbackward\u001b[0m\u001b[0;34m(\u001b[0m\u001b[0;34m)\u001b[0m\u001b[0;34m\u001b[0m\u001b[0m\n",
      "\u001b[0;31mKeyboardInterrupt\u001b[0m: "
     ]
    }
   ],
   "source": [
    "loss_train, acc_train, val_data = train(data_dir = data_d, label_dir = label_dir,\n",
    "                                        save_dir = save_dir, epoch = epoch, mb = mb,\n",
    "                                        num_class = num_class, num_workers = num_workers,\n",
    "                                        use_cuda = cuda, conti = conti, lr = lr,\n",
    "                                        final_save = final_save, name = name, save_freq = save_freq)\n"
   ]
  },
  {
   "cell_type": "markdown",
   "metadata": {},
   "source": [
    "Loading the 100th epoch model and continue to train for another 10 epoch with a slightly larger learning rate"
   ]
  },
  {
   "cell_type": "code",
   "execution_count": 3,
   "metadata": {
    "scrolled": true
   },
   "outputs": [],
   "source": [
    "conti = True\n",
    "save_freq = 5\n",
    "model_name = 'test_model_100_loss_0_1995_acc_0_9248.pt'\n",
    "name = save_dir + model_name\n",
    "lr = 1e-6\n",
    "epoch = 1"
   ]
  },
  {
   "cell_type": "code",
   "execution_count": null,
   "metadata": {},
   "outputs": [],
   "source": [
    "loss_train, acc_train, val_data = train(data_dir = data_d, label_dir = label_dir,\n",
    "                                        save_dir = save_dir, epoch = epoch, mb = mb,\n",
    "                                        num_class = num_class, num_workers = num_workers,\n",
    "                                        use_cuda = cuda, conti = conti, lr = lr,\n",
    "                                        final_save = final_save, name = name, save_freq = save_freq)"
   ]
  },
  {
   "cell_type": "code",
   "execution_count": 14,
   "metadata": {},
   "outputs": [],
   "source": [
    "with open(save_dir + 'validation_res.pickle', 'wb') as handle:\n",
    "    pickle.dump(res, handle)"
   ]
  },
  {
   "cell_type": "markdown",
   "metadata": {},
   "source": [
    "## Classification result"
   ]
  },
  {
   "cell_type": "code",
   "execution_count": 8,
   "metadata": {},
   "outputs": [
    {
     "data": {
      "text/plain": [
       "Counter({0: 2043, 1: 305, 2: 303, 3: 35, 4: 103, 5: 173, 6: 42})"
      ]
     },
     "execution_count": 8,
     "metadata": {},
     "output_type": "execute_result"
    }
   ],
   "source": [
    "from collections import Counter\n",
    "Counter(res['predictions'])"
   ]
  },
  {
   "cell_type": "markdown",
   "metadata": {},
   "source": [
    "## Ground Truth"
   ]
  },
  {
   "cell_type": "code",
   "execution_count": 12,
   "metadata": {},
   "outputs": [
    {
     "data": {
      "text/plain": [
       "Counter({0: 2042, 1: 318, 2: 313, 3: 37, 4: 103, 5: 154, 6: 37})"
      ]
     },
     "execution_count": 12,
     "metadata": {},
     "output_type": "execute_result"
    }
   ],
   "source": [
    "Counter([item for sublist in res['classes'] for item in sublist])"
   ]
  },
  {
   "cell_type": "code",
   "execution_count": 17,
   "metadata": {},
   "outputs": [
    {
     "data": {
      "text/plain": [
       "0.23762969305607354"
      ]
     },
     "execution_count": 17,
     "metadata": {},
     "output_type": "execute_result"
    }
   ],
   "source": [
    "res['loss']"
   ]
  },
  {
   "cell_type": "markdown",
   "metadata": {},
   "source": [
    "## Class Activation Map"
   ]
  },
  {
   "cell_type": "code",
   "execution_count": 4,
   "metadata": {},
   "outputs": [],
   "source": [
    "from class_activation_map import ExtractFeatures, GradCam\n",
    "import cv2\n",
    "import numpy as np"
   ]
  },
  {
   "cell_type": "code",
   "execution_count": 5,
   "metadata": {},
   "outputs": [],
   "source": [
    "def preprocess_image(img):\n",
    "    means=[0.485, 0.456, 0.406]\n",
    "    stds=[0.229, 0.224, 0.225]\n",
    "\n",
    "    preprocessed_img = img.copy()[: , :, ::-1]\n",
    "    for i in range(3):\n",
    "        preprocessed_img[:, :, i] = preprocessed_img[:, :, i] - means[i]\n",
    "        preprocessed_img[:, :, i] = preprocessed_img[:, :, i] / stds[i]\n",
    "    preprocessed_img = \\\n",
    "        np.ascontiguousarray(np.transpose(preprocessed_img, (2, 0, 1)))\n",
    "    preprocessed_img = torch.from_numpy(preprocessed_img)\n",
    "    preprocessed_img.unsqueeze_(0)\n",
    "\n",
    "    inp = preprocessed_img\n",
    "    inp.requires_grad = True\n",
    "    return(inp)"
   ]
  },
  {
   "cell_type": "code",
   "execution_count": 6,
   "metadata": {},
   "outputs": [],
   "source": [
    "model = vgg_preloaded(7, use_cuda = cuda)\n",
    "model.load_state_dict(torch.load(name))\n",
    "model.model.requires_grad = True"
   ]
  },
  {
   "cell_type": "code",
   "execution_count": 60,
   "metadata": {},
   "outputs": [],
   "source": [
    "image_path = '/home/paperspace/projects/skin_cancer/data/skin-cancer-mnist-ham10000/HAM10000_images_part_1/ISIC_0029319.jpg'\n",
    "img = cv2.imread(image_path, 1)\n",
    "img = np.float32(cv2.resize(img, (224, 224))) / 255"
   ]
  },
  {
   "cell_type": "code",
   "execution_count": 61,
   "metadata": {},
   "outputs": [],
   "source": [
    "inp = preprocess_image(img)"
   ]
  },
  {
   "cell_type": "code",
   "execution_count": 62,
   "metadata": {},
   "outputs": [],
   "source": [
    "inp = inp.cuda()\n",
    "model = model.cuda()"
   ]
  },
  {
   "cell_type": "code",
   "execution_count": 63,
   "metadata": {},
   "outputs": [],
   "source": [
    "target_layers = '29'\n",
    "gradcam = GradCam(model.model, target_layers)"
   ]
  },
  {
   "cell_type": "code",
   "execution_count": 64,
   "metadata": {},
   "outputs": [],
   "source": [
    "cam = gradcam.generate_CAM(inp)"
   ]
  },
  {
   "cell_type": "markdown",
   "metadata": {},
   "source": [
    "#### loading original img"
   ]
  },
  {
   "cell_type": "code",
   "execution_count": 65,
   "metadata": {},
   "outputs": [],
   "source": [
    "image_path = '/home/paperspace/projects/skin_cancer/data/skin-cancer-mnist-ham10000/HAM10000_images_part_1/ISIC_0029319.jpg'\n",
    "img = cv2.imread(image_path, 1)\n",
    "#img = np.float32(cv2.resize(img, (224, 224))) / 255\n",
    "img = np.float32(img) / 255"
   ]
  },
  {
   "cell_type": "code",
   "execution_count": 66,
   "metadata": {},
   "outputs": [],
   "source": [
    "heatmap = cv2.applyColorMap(np.uint8(255*cam), cv2.COLORMAP_JET)\n",
    "heatmap = np.float32(heatmap) / 255\n",
    "cam_ = heatmap + np.float32(img)\n",
    "cam_ = cam_ / np.max(cam_)"
   ]
  },
  {
   "cell_type": "code",
   "execution_count": 67,
   "metadata": {},
   "outputs": [
    {
     "data": {
      "text/plain": [
       "True"
      ]
     },
     "execution_count": 67,
     "metadata": {},
     "output_type": "execute_result"
    }
   ],
   "source": [
    "cv2.imwrite(\"cam_ISIC_0029319.jpg\", np.uint8(255 * cam_))"
   ]
  },
  {
   "cell_type": "code",
   "execution_count": null,
   "metadata": {},
   "outputs": [],
   "source": []
  }
 ],
 "metadata": {
  "kernelspec": {
   "display_name": "Python 3",
   "language": "python",
   "name": "python3"
  },
  "language_info": {
   "codemirror_mode": {
    "name": "ipython",
    "version": 3
   },
   "file_extension": ".py",
   "mimetype": "text/x-python",
   "name": "python",
   "nbconvert_exporter": "python",
   "pygments_lexer": "ipython3",
   "version": "3.6.4"
  }
 },
 "nbformat": 4,
 "nbformat_minor": 2
}
