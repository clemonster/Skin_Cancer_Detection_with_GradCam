{
 "cells": [
  {
   "cell_type": "markdown",
   "metadata": {},
   "source": [
    "Approach"
   ]
  },
  {
   "cell_type": "markdown",
   "metadata": {},
   "source": [
    "HAM10000 (\"Human Against Machine with 10000 training images\") dataset is a set of dermatoscopic images from different populations, acquired and stored by different modalities. The final dataset consists of 10015 dermatoscopic images. \n",
    "\n",
    "The data was:\n",
    "- a set of 10,000 images of multi-source dermatoscopic images of pigmented lesions labeled with an image_id\n",
    "- a csv file with 7 variables: lesion_id, image_id, disease (dx), confirmation process (dx_type), age, sex and localization"
   ]
  },
  {
   "cell_type": "markdown",
   "metadata": {},
   "source": [
    "7 diseases are being detected:\n",
    "    - Actinic keratoses and intraepithelial carcinoma / Bowen's disease (akiec)\n",
    "    - basal cell carcinoma (bcc)\n",
    "    - benign keratosis-like lesions (solar lentigines / seborrheic keratoses and lichen-planus like keratoses, bkl)\n",
    "    - dermatofibroma (df)\n",
    "    - melanoma (mel)\n",
    "    - melanocytic nevi (nv)\n",
    "    - vascular lesions (angiomas, angiokeratomas, pyogenic granulomas and hemorrhage, vasc)."
   ]
  },
  {
   "cell_type": "markdown",
   "metadata": {},
   "source": [
    "More than 50% of lesions are confirmed through histopathology (histo), the ground truth for the rest of the cases is either follow-up examination (follow_up), expert consensus (consensus), or confirmation by in-vivo confocal microscopy (confocal). The dataset includes lesions with multiple images, which can be tracked by the lesion_id-column within the HAM10000_metadata file."
   ]
  },
  {
   "cell_type": "markdown",
   "metadata": {},
   "source": [
    "We used 70% of the data for training, 20% for validating and 10% for testing."
   ]
  },
  {
   "cell_type": "markdown",
   "metadata": {},
   "source": [
    "The locations of the images are:\n",
    "    - scalp \n",
    "    - ear \n",
    "    - face\n",
    "    - back\n",
    "    - trunk\n",
    "    - chest\n",
    "    - abdomen\n",
    "    - neck\n",
    "    - genital\n",
    "    - hand\n",
    "    - foot\n",
    "    - acral (toes and fingers)"
   ]
  },
  {
   "cell_type": "code",
   "execution_count": null,
   "metadata": {},
   "outputs": [],
   "source": []
  }
 ],
 "metadata": {
  "kernelspec": {
   "display_name": "Python 3",
   "language": "python",
   "name": "python3"
  },
  "language_info": {
   "codemirror_mode": {
    "name": "ipython",
    "version": 3
   },
   "file_extension": ".py",
   "mimetype": "text/x-python",
   "name": "python",
   "nbconvert_exporter": "python",
   "pygments_lexer": "ipython3",
   "version": "3.5.2"
  }
 },
 "nbformat": 4,
 "nbformat_minor": 2
}
